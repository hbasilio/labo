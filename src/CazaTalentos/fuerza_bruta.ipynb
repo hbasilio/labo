{
 "cells": [
  {
   "cell_type": "code",
   "execution_count": 3,
   "id": "e42f9a84-bf89-47a2-b336-70fd29e3476c",
   "metadata": {
    "tags": []
   },
   "outputs": [
    {
     "ename": "ModuleNotFoundError",
     "evalue": "No module named 'tqdm'",
     "output_type": "error",
     "traceback": [
      "\u001b[1;31m---------------------------------------------------------------------------\u001b[0m",
      "\u001b[1;31mModuleNotFoundError\u001b[0m                       Traceback (most recent call last)",
      "Cell \u001b[1;32mIn[3], line 2\u001b[0m\n\u001b[0;32m      1\u001b[0m \u001b[38;5;28;01mimport\u001b[39;00m \u001b[38;5;21;01mnumpy\u001b[39;00m \u001b[38;5;28;01mas\u001b[39;00m \u001b[38;5;21;01mnp\u001b[39;00m\n\u001b[1;32m----> 2\u001b[0m \u001b[38;5;28;01mfrom\u001b[39;00m \u001b[38;5;21;01mtqdm\u001b[39;00m \u001b[38;5;28;01mimport\u001b[39;00m tqdm\n\u001b[0;32m      4\u001b[0m np\u001b[38;5;241m.\u001b[39mrandom\u001b[38;5;241m.\u001b[39mseed(\u001b[38;5;241m400199\u001b[39m)\n\u001b[0;32m      6\u001b[0m \u001b[38;5;66;03m#calcula cuantos encestes logra un jugador con indice de enceste prob\u001b[39;00m\n\u001b[0;32m      7\u001b[0m \u001b[38;5;66;03m#haciendo qty tiros libres\u001b[39;00m\n",
      "\u001b[1;31mModuleNotFoundError\u001b[0m: No module named 'tqdm'"
     ]
    }
   ],
   "source": [
    "import numpy as np\n",
    "from tqdm import tqdm\n",
    "\n",
    "np.random.seed(400199)\n",
    "\n",
    "#calcula cuantos encestes logra un jugador con indice de enceste prob\n",
    "#haciendo qty tiros libres\n",
    "\n",
    "def ftirar(prob, qty):\n",
    "  return sum(np.random.rand(qty) < prob)\n",
    "\n",
    "\n",
    "def create_peloton(num_values):\n",
    "    return np.linspace(0.501, 0.600, num_values)"
   ]
  },
  {
   "cell_type": "code",
   "execution_count": 2,
   "id": "abb23f70-4ae9-4a8a-a943-7667e83c806a",
   "metadata": {
    "tags": []
   },
   "outputs": [],
   "source": [
    "jugadores = 200\n",
    "mejor = 0.62\n",
    "cantidad_tiros = 10000"
   ]
  },
  {
   "cell_type": "code",
   "execution_count": 3,
   "id": "c614138c-482a-4372-bb66-89ca6bdd0a4b",
   "metadata": {
    "tags": []
   },
   "outputs": [
    {
     "ename": "NameError",
     "evalue": "name 'create_peloton' is not defined",
     "output_type": "error",
     "traceback": [
      "\u001b[1;31m---------------------------------------------------------------------------\u001b[0m",
      "\u001b[1;31mNameError\u001b[0m                                 Traceback (most recent call last)",
      "Cell \u001b[1;32mIn[3], line 1\u001b[0m\n\u001b[1;32m----> 1\u001b[0m peloton \u001b[38;5;241m=\u001b[39m \u001b[43mcreate_peloton\u001b[49m(jugadores)\n\u001b[0;32m      2\u001b[0m total_jugadores \u001b[38;5;241m=\u001b[39m np\u001b[38;5;241m.\u001b[39mappend(mejor, peloton)\n\u001b[0;32m      4\u001b[0m vec_ftirar \u001b[38;5;241m=\u001b[39m np\u001b[38;5;241m.\u001b[39mvectorize(ftirar)\n",
      "\u001b[1;31mNameError\u001b[0m: name 'create_peloton' is not defined"
     ]
    }
   ],
   "source": [
    "peloton = create_peloton(jugadores)\n",
    "total_jugadores = np.append(mejor, peloton)\n",
    "\n",
    "vec_ftirar = np.vectorize(ftirar)\n",
    "\n",
    "primero_ganador = 0\n",
    "\n",
    "for i in tqdm(range(10000)): \n",
    "    vaciertos = vec_ftirar(total_jugadores, cantidad_tiros)\n",
    "    mejor = np.argmax(vaciertos)\n",
    "    if mejor == 0:\n",
    "        primero_ganador += 1\n",
    "\n",
    "print(primero_ganador)"
   ]
  },
  {
   "cell_type": "code",
   "execution_count": 16,
   "id": "f5ed1cb4-eeaf-4e2c-a76b-f63021db7721",
   "metadata": {
    "tags": []
   },
   "outputs": [
    {
     "data": {
      "text/plain": [
       "0.6891"
      ]
     },
     "execution_count": 16,
     "metadata": {},
     "output_type": "execute_result"
    }
   ],
   "source": [
    "#cazatalentos 1 () \n",
    "6891/10000"
   ]
  },
  {
   "cell_type": "code",
   "execution_count": 17,
   "id": "c56bf745-50ad-402f-b442-a70469b6f394",
   "metadata": {
    "tags": []
   },
   "outputs": [
    {
     "data": {
      "text/plain": [
       "0.5237"
      ]
     },
     "execution_count": 17,
     "metadata": {},
     "output_type": "execute_result"
    }
   ],
   "source": [
    "# cazatalentos()\n",
    "5237 / 10000"
   ]
  },
  {
   "cell_type": "code",
   "execution_count": 18,
   "id": "3e51cb42-6475-4bf6-81a3-ace90231a834",
   "metadata": {
    "tags": []
   },
   "outputs": [
    {
     "data": {
      "text/plain": [
       "0.9388"
      ]
     },
     "execution_count": 18,
     "metadata": {},
     "output_type": "execute_result"
    }
   ],
   "source": [
    "#cazatalentos 3\n",
    "9388 / 10000"
   ]
  },
  {
   "cell_type": "code",
   "execution_count": 46,
   "id": "6f565d50-0a5b-4eb4-aa3b-7055e3f0f3ea",
   "metadata": {
    "tags": []
   },
   "outputs": [
    {
     "data": {
      "text/plain": [
       "0.2076"
      ]
     },
     "execution_count": 46,
     "metadata": {},
     "output_type": "execute_result"
    }
   ],
   "source": [
    "# cazatalentos 4\n",
    "\n",
    "2076 / 10000"
   ]
  },
  {
   "cell_type": "code",
   "execution_count": null,
   "id": "820bd072-658c-4560-93a7-169ebf9010b1",
   "metadata": {},
   "outputs": [],
   "source": []
  },
  {
   "cell_type": "code",
   "execution_count": null,
   "id": "af9f4698-9715-4f28-81d3-173accd43b35",
   "metadata": {},
   "outputs": [],
   "source": []
  },
  {
   "cell_type": "markdown",
   "id": "103b264a-f890-4c77-b60b-96d1a71b8703",
   "metadata": {},
   "source": [
    "Cazatalentos 1: Llegué a la localidad habían 60 adolescentes en el gimnasio, hice tirar a cada uno\n",
    "100 tiros, solo uno obtuvo 80 aciertos, luego un par 79, otro par 78, y así descendían.\n",
    "\n",
    "Cazatalentos 2: Llegué a una pequeña ciudad y habían 200 adolescentes en el gimnasio, hice tirar a\n",
    "cada uno 100 tiros, solo uno obtuvo 80 aciertos, seis 79, cinco 78, y así descendían.\n",
    "\n",
    "Cazatalentos 3: Llegué a minúsculo pueblo con un aro reglamentario en la pared de una escuela,\n",
    "habían solamente 2 adolescentes, hice tirar a cada uno 100 tiros, uno obtuvo 80 y el otro 75.\n",
    "\n",
    "Cazatalentos 4: Ehh, yo soy nuevo y no tenía clara la regla de hacer tirar 100 tiros. Fui a un pueblo,\n",
    "había 50 adolescentes, le hice tirar 10 tiros a cada uno. Uno de ellos acertó 9 el que elegí como\n",
    "ganador, luego ya hay varios con 8 aciertos, 7, etc\n",
    "\n",
    "Cazatalentos 5: Yo poseo 25 años de experiencia como cazatalentos y tengo muy buena intuición\n",
    "para detectar el talento. Llegué a un pueblo donde habían 50 adolescentes, me senté en las gradas\n",
    "del gimnasio y los observé detenidamente mientras precalentaban sin tirar al aro. A los 10\n",
    "minutos, me paro, y señalo a uno de ellos y le digo : 'tú, el número 13, a tirar 100 tiros; el resto, se\n",
    "puede ir a la casa”. Y ahí al tirar logró 80 aciertos y ese es mi candidato.\n",
    "\n",
    "Cazatalentos 6: Llegué al pueblo,habían 100 adolescentes, y les hice tirar una primer ronda de 50\n",
    "tiros libres a cada uno. Luego, a los 5 mejores, los hice tirar una segunda ronda de 100 tiros, y el\n",
    "mejor logró 80 aciertos, y el resto 79, 78, 77 y 72.\n",
    "\n",
    "Cazatalentos 7: En el pueblo que me tocó también habían 100 adolescentes. Comenzaron a lanzar\n",
    "tiros en forma rotativa de a un tiro por vez por persona, el que erraba un tiro libre era eliminado.\n",
    "Cuando quedaron solamente 5, los hice tirar una segunda ronda de 100 tiros a cada uno, y el\n",
    "mejor logró 80 aciertos, y el resto 78, 78, 76 y 74.\n",
    "\n",
    "Cazatalentos 8: Conozco de hace una década al profesor de educación física que está a cargo del\n",
    "gimnasio del pueblo al que fui hoy. Llegué dos horas antes, y luego de ponernos al dia, me mostró\n",
    "una planilla Excel con los resultados de tiros libres de 30 de los 100 adolescentes que iban a\n",
    "participar. Seguí el protocolo, hice tirar a cada uno de los 100 adolescentes 100 tiros libres, hubo\n",
    "uno que hizo 85 encestes, un par 84, tres 83, y luego continuaba la escalerita. Quien logró los 85\n",
    "encestes, a quien elegí, en la planilla de profesor tenía la semana previa 790 encestes de 1000 tiros\n",
    "libres.\n",
    "\n",
    "Cazatalentos 9: Hice tirar a cada adolescente 5 tiros libres. Me fijé en el estilo, la forma que se\n",
    "movían, lo focalizados que estaban. Ni tomé nota de cuantos encestes lograron. Dos de ellos me\n",
    "llamaron la atención, al restó los envié a su casa, y a los dos los hice lanzar 100 veces a cada uno.\n",
    "Uno logró 82 encestes y el otro 81, elegí al de 81 porque lo noto más regular.\n"
   ]
  },
  {
   "cell_type": "markdown",
   "id": "0594bcd2-8110-4a77-b7c8-b8e6660830be",
   "metadata": {},
   "source": [
    "Cazatalentos 4: Ehh, yo soy nuevo y no tenía clara la regla de hacer tirar 100 tiros. Fui a un pueblo,\n",
    "había 50 adolescentes, le hice tirar 10 tiros a cada uno. Uno de ellos acertó 9 el que elegí como\n",
    "ganador, luego ya hay varios con 8 aciertos, 7, etc "
   ]
  },
  {
   "cell_type": "code",
   "execution_count": null,
   "id": "302b986e-67ad-44eb-a3de-0981429a6e76",
   "metadata": {},
   "outputs": [],
   "source": [
    "N = ?\n",
    "s = 60 \n",
    "\n",
    "Cazatalentos 1: Llegué a la localidad habían 60 adolescentes en el gimnasio, hice tirar a cada uno\n",
    "100 tiros, solo uno obtuvo 80 aciertos, luego un par 79, otro par 78, y así descendían.\n",
    "\n",
    "N = ?\n",
    "s = 200\n",
    "\n",
    "Cazatalentos 2: Llegué a una pequeña ciudad y habían 200 adolescentes en el gimnasio, hice tirar a\n",
    "cada uno 100 tiros, solo uno obtuvo 80 aciertos, seis 79, cinco 78, y así descendían"
   ]
  }
 ],
 "metadata": {
  "kernelspec": {
   "display_name": "Python 3 (ipykernel)",
   "language": "python",
   "name": "python3"
  },
  "language_info": {
   "codemirror_mode": {
    "name": "ipython",
    "version": 3
   },
   "file_extension": ".py",
   "mimetype": "text/x-python",
   "name": "python",
   "nbconvert_exporter": "python",
   "pygments_lexer": "ipython3",
   "version": "3.11.3"
  }
 },
 "nbformat": 4,
 "nbformat_minor": 5
}
