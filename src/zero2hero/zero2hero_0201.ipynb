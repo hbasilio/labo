{
 "cells": [
  {
   "cell_type": "markdown",
   "metadata": {},
   "source": [
    "# Zero to Hero"
   ]
  },
  {
   "cell_type": "markdown",
   "metadata": {},
   "source": [
    "## 2.01 Optimizacion Bayesiana"
   ]
  },
  {
   "cell_type": "raw",
   "metadata": {},
   "source": [
    "El objetivo es mostrar como funciona la Optimizacion Bayesiana en el caso mas simple : una funcion univariada"
   ]
  },
  {
   "cell_type": "markdown",
   "metadata": {},
   "source": [
    "### Advertencia"
   ]
  },
  {
   "cell_type": "markdown",
   "metadata": {},
   "source": [
    "El uso del método de Optimización Bayesiana para la optimización de hiperparámetros en modelos predictivos tiene menos de una década.\n",
    "Entender los fundamentos de la O.B. requieren de una sólida formación matemática y **no** son el objetivo de esta asignatura.\n",
    "Para quienes deseen aventurarse a los detalles técnicos:\n",
    "* El paper original de la libreria mlrMBO (año 2018 )   https://arxiv.org/pdf/1703.03373.pdf\n",
    "* El método de Kriging , tal cual se deriva del uso original, en este pequeño libro de 106 páginas \"Basic Steps in Geostatistics: The Variogram and Kriging\" https://www.pdfdrive.com/basic-steps-in-geostatistics-the-variogram-and-kriging-e187336318.html"
   ]
  },
  {
   "cell_type": "markdown",
   "metadata": {},
   "source": [
    "### El código"
   ]
  },
  {
   "cell_type": "code",
   "execution_count": 1,
   "metadata": {
    "tags": []
   },
   "outputs": [
    {
     "ename": "SyntaxError",
     "evalue": "expression cannot contain assignment, perhaps you meant \"==\"? (4083860389.py, line 12)",
     "output_type": "error",
     "traceback": [
      "\u001b[1;36m  Cell \u001b[1;32mIn[1], line 12\u001b[1;36m\u001b[0m\n\u001b[1;33m    options(repr.plot.width=20, repr.plot.height=10)\u001b[0m\n\u001b[1;37m            ^\u001b[0m\n\u001b[1;31mSyntaxError\u001b[0m\u001b[1;31m:\u001b[0m expression cannot contain assignment, perhaps you meant \"==\"?\n"
     ]
    }
   ],
   "source": [
    "#Ejemplo de optimizacion bayesiana, univariada\n",
    "\n",
    "#limpio la memoria\n",
    "rm( list=ls() )  #remove all objects\n",
    "gc()             #garbage collection\n",
    "\n",
    "require(\"data.table\")\n",
    "#paquetes necesarios para la Bayesian Optimization\n",
    "require(\"DiceKriging\")\n",
    "require(\"mlrMBO\")\n",
    "\n",
    "options(repr.plot.width=20, repr.plot.height=10)"
   ]
  },
  {
   "cell_type": "markdown",
   "metadata": {},
   "source": [
    "### Defino la funcion a optimizar, un polinomio de grado 4"
   ]
  },
  {
   "cell_type": "code",
   "execution_count": 4,
   "metadata": {
    "tags": []
   },
   "outputs": [],
   "source": [
    "func_univariada01  <- function( x )\n",
    "{\n",
    "  y  <- -2 * (x+13) * (x-3) * (x-7) * (x-19)\n",
    "\n",
    "  return( y )\n",
    "}"
   ]
  },
  {
   "cell_type": "markdown",
   "metadata": {},
   "source": [
    "Grafico la funcion"
   ]
  },
  {
   "cell_type": "code",
   "execution_count": 5,
   "metadata": {
    "tags": []
   },
   "outputs": [
    {
     "data": {
      "image/png": "[encoded data removed]",
      "text/plain": [
       "plot without title"
      ]
     },
     "metadata": {
      "image/png": {
       "height": 600,
       "width": 1200
      }
     },
     "output_type": "display_data"
    }
   ],
   "source": [
    "intervalo  <- seq(-15,21,0.1)\n",
    "plot(intervalo, func_univariada01(intervalo))"
   ]
  },
  {
   "cell_type": "markdown",
   "metadata": {},
   "source": [
    "La funcion tiene dos máximos, uno de ellos es el global."
   ]
  },
  {
   "cell_type": "markdown",
   "metadata": {},
   "source": [
    "### Optimizacion Bayesiana"
   ]
  },
  {
   "cell_type": "markdown",
   "metadata": {},
   "source": [
    "¿Qué tan rápido encontrará la Optmización Bayesiana el máximo global?"
   ]
  },
  {
   "cell_type": "markdown",
   "metadata": {},
   "source": [
    "Defino las caracteristicas de la optimizacion"
   ]
  },
  {
   "cell_type": "markdown",
   "metadata": {},
   "source": [
    "* **fn**    es el nombre de la funcion\n",
    "* **minimize**   por defecto es TRUE,  pero en este caso le asigno FALSE, ya que deseo maximizar  el valor\n",
    "* **par.set**  indica cuales son los hiperparmetros de la funcion, en este caso hay una sola variable que llamé  x\n",
    "---\n",
    "* **makeNumericParam** indica que ese hiperparámetro es un numero real, una variable continua  ( no es ni un entero ni una categoria )"
   ]
  },
  {
   "cell_type": "code",
   "execution_count": 6,
   "metadata": {
    "tags": []
   },
   "outputs": [],
   "source": [
    "obj.fun  <- makeSingleObjectiveFunction(\n",
    "              fn=       func_univariada01,\n",
    "              minimize= FALSE,   #estoy Maximizando la ganancia\n",
    "              par.set=  makeParamSet(  makeNumericParam( \"x\", lower= -100, upper=  100) ),\n",
    "             )"
   ]
  },
  {
   "cell_type": "markdown",
   "metadata": {},
   "source": [
    "ahora defino la funcion proxy, la que se construye internamente intentando emular la realidad"
   ]
  },
  {
   "cell_type": "markdown",
   "metadata": {},
   "source": [
    "* **cl**  es la clase de learner,  \"reg.km\" indica el método de kriging \"**reg**ression **k**riging **m**ethodd\"\n",
    "* **predict.type**  es el tipo de prediccion que deseo me devuelva, \"se\" significa que espero dos valores  media y standard error\n",
    "* **covtype**    es la funcion de covarianza que se va a utilizar, cual es la covarianza de dos mediciones como fucion de la distancia entre los puntos donde fueron tomadas las mediciones, fue inventada por Bertil Matérn "
   ]
  },
  {
   "cell_type": "markdown",
   "metadata": {},
   "source": [
    "El método de kriging puede verse en su forma original (la geología) , esta presentación https://www.youtube.com/watch?v=ZB7GvJrNKq0"
   ]
  },
  {
   "cell_type": "code",
   "execution_count": 7,
   "metadata": {
    "tags": []
   },
   "outputs": [],
   "source": [
    "fproxy  <- makeLearner( cl= \"regr.km\",\n",
    "                        predict.type= \"se\", \n",
    "                        covtype= \"matern3_2\" )"
   ]
  },
  {
   "cell_type": "markdown",
   "metadata": {},
   "source": [
    "ultima definicion,  especificar la optimizacion bayesiana\n",
    "*  **crit**   indica el criterio con el que se completan los valores iniciales \"no inteligentes\"\n",
    "*  **iters**  indica la cantidad de iteraciones inteligentes que hará la Optimizacion Bayesiana, las que son adicionales a las primeras cuatro de este caso.*  **iters**  indica la cantidad de iteraciones inteligentes que hará la Optimizacion Bayesiana, las que son adicionales a las primeras cuatro de este caso."
   ]
  },
  {
   "cell_type": "code",
   "execution_count": 8,
   "metadata": {
    "tags": []
   },
   "outputs": [],
   "source": [
    "ctrl  <- makeMBOControl()\n",
    "ctrl  <- setMBOControlInfill( ctrl, crit= makeMBOInfillCritEI())\n",
    "ctrl  <- setMBOControlTermination( ctrl, iters= 25 )"
   ]
  },
  {
   "cell_type": "markdown",
   "metadata": {},
   "source": [
    "finalmente , lanzo la Optimizacion Bayesiana"
   ]
  },
  {
   "cell_type": "markdown",
   "metadata": {},
   "source": [
    "* **fun**  es la especificacion de la funcion que deseo optimizar, si maximizo o minimizo, cuales son las variables de la misma\n",
    "* **learner**  especifica cual es la función proxy interna que va a utilizar la Optimziación Bayesiana\n",
    "* **control**  indica la la forma en que se harán las iteraciones"
   ]
  },
  {
   "cell_type": "code",
   "execution_count": 9,
   "metadata": {
    "tags": []
   },
   "outputs": [
    {
     "name": "stderr",
     "output_type": "stream",
     "text": [
      "Computing y column(s) for design. Not provided.\n",
      "\n",
      "[mbo] 0: x=-58.8 : y = -2.9e+07 : 0.0 secs : initdesign\n",
      "\n",
      "[mbo] 0: x=28.8 : y = -4.63e+05 : 0.0 secs : initdesign\n",
      "\n",
      "[mbo] 0: x=63 : y = -2.25e+07 : 0.0 secs : initdesign\n",
      "\n",
      "[mbo] 0: x=-3.04 : y = 2.66e+04 : 0.0 secs : initdesign\n",
      "\n"
     ]
    },
    {
     "name": "stdout",
     "output_type": "stream",
     "text": [
      "\n",
      "optimisation start\n",
      "------------------\n",
      "* estimation method   : MLE \n",
      "* optimisation method : BFGS \n",
      "* analytical gradient : used\n",
      "* trend model : ~1\n",
      "* covariance model : \n",
      "  - type :  matern3_2 \n",
      "  - nugget : NO\n",
      "  - parameters lower bounds :  1e-10 \n",
      "  - parameters upper bounds :  243.6391 \n",
      "  - best initial criterion value(s) :  -71.17216 \n",
      "\n",
      "N = 1, M = 5 machine precision = 2.22045e-16\n",
      "At X0, 0 variables are exactly at the bounds\n",
      "At iterate     0  f=       71.172  |proj g|=    0.0050737\n",
      "At iterate     1  f =       71.172  |proj g|=     0.0050764\n",
      "ys=-1.401e-08  -gs= 2.574e-05, BFGS update SKIPPED\n",
      "At iterate     2  f =       71.141  |proj g|=     0.0021641\n",
      "At iterate     3  f =       71.138  |proj g|=    1.6142e-05\n",
      "At iterate     4  f =       71.138  |proj g|=    4.9034e-07\n",
      "\n",
      "iterations 4\n",
      "function evaluations 11\n",
      "segments explored during Cauchy searches 4\n",
      "BFGS updates skipped 1\n",
      "active bounds at final generalized Cauchy point 0\n",
      "norm of the final projected gradient 4.90337e-07\n",
      "final function value 71.1384\n",
      "\n",
      "F = 71.1384\n",
      "final  value 71.138423 \n",
      "converged\n"
     ]
    },
    {
     "name": "stderr",
     "output_type": "stream",
     "text": [
      "[mbo] 1: x=12.8 : y = 1.81e+04 : 0.0 secs : infill_ei\n",
      "\n"
     ]
    },
    {
     "name": "stdout",
     "output_type": "stream",
     "text": [
      "\n",
      "optimisation start\n",
      "------------------\n",
      "* estimation method   : MLE \n",
      "* optimisation method : BFGS \n",
      "* analytical gradient : used\n",
      "* trend model : ~1\n",
      "* covariance model : \n",
      "  - type :  matern3_2 \n",
      "  - nugget : NO\n",
      "  - parameters lower bounds :  1e-10 \n",
      "  - parameters upper bounds :  243.6391 \n",
      "  - best initial criterion value(s) :  -87.93242 \n",
      "\n",
      "N = 1, M = 5 machine precision = 2.22045e-16\n",
      "At X0, 0 variables are exactly at the bounds\n",
      "At iterate     0  f=       87.932  |proj g|=     0.013225\n",
      "At iterate     1  f =       87.932  |proj g|=      0.013224\n",
      "At iterate     2  f =       87.728  |proj g|=     0.0070493\n",
      "Nonpositive definiteness in Cholesky factorization in formk;\n",
      "   refresh the lbfgs memory and restart the iteration.\n",
      "At iterate     3  f =       87.713  |proj g|=     0.0051566\n",
      "At iterate     4  f =       87.702  |proj g|=     0.0026055\n",
      "At iterate     5  f =         87.7  |proj g|=    0.00050959\n",
      "At iterate     6  f =         87.7  |proj g|=    3.9845e-05\n",
      "At iterate     7  f =         87.7  |proj g|=    6.8272e-07\n",
      "At iterate     8  f =         87.7  |proj g|=    8.9345e-10\n",
      "\n",
      "iterations 8\n",
      "function evaluations 16\n",
      "segments explored during Cauchy searches 9\n",
      "BFGS updates skipped 0\n",
      "active bounds at final generalized Cauchy point 0\n",
      "norm of the final projected gradient 8.93447e-10\n",
      "final function value 87.6999\n",
      "\n",
      "F = 87.6999\n",
      "final  value 87.699908 \n",
      "converged\n"
     ]
    },
    {
     "name": "stderr",
     "output_type": "stream",
     "text": [
      "[mbo] 2: x=3.85 : y = -1.37e+03 : 0.0 secs : infill_ei\n",
      "\n"
     ]
    },
    {
     "name": "stdout",
     "output_type": "stream",
     "text": [
      "\n",
      "optimisation start\n",
      "------------------\n",
      "* estimation method   : MLE \n",
      "* optimisation method : BFGS \n",
      "* analytical gradient : used\n",
      "* trend model : ~1\n",
      "* covariance model : \n",
      "  - type :  matern3_2 \n",
      "  - nugget : NO\n",
      "  - parameters lower bounds :  1e-10 \n",
      "  - parameters upper bounds :  243.6391 \n",
      "  - best initial criterion value(s) :  -102.8677 \n",
      "\n",
      "N = 1, M = 5 machine precision = 2.22045e-16\n",
      "At X0, 0 variables are exactly at the bounds\n",
      "At iterate     0  f=       102.87  |proj g|=    0.0015017\n",
      "At iterate     1  f =       102.87  |proj g|=     0.0015009\n",
      "At iterate     2  f =       102.87  |proj g|=    0.00015766\n",
      "At iterate     3  f =       102.87  |proj g|=    1.4451e-05\n",
      "At iterate     4  f =       102.87  |proj g|=    1.2446e-07\n",
      "\n",
      "iterations 4\n",
      "function evaluations 5\n",
      "segments explored during Cauchy searches 4\n",
      "BFGS updates skipped 0\n",
      "active bounds at final generalized Cauchy point 0\n",
      "norm of the final projected gradient 1.24456e-07\n",
      "final function value 102.866\n",
      "\n",
      "F = 102.866\n",
      "final  value 102.865627 \n",
      "converged\n"
     ]
    },
    {
     "name": "stderr",
     "output_type": "stream",
     "text": [
      "[mbo] 3: x=21.3 : y = -4.16e+04 : 0.0 secs : infill_ei\n",
      "\n"
     ]
    },
    {
     "name": "stdout",
     "output_type": "stream",
     "text": [
      "\n",
      "optimisation start\n",
      "------------------\n",
      "* estimation method   : MLE \n",
      "* optimisation method : BFGS \n",
      "* analytical gradient : used\n",
      "* trend model : ~1\n",
      "* covariance model : \n",
      "  - type :  matern3_2 \n",
      "  - nugget : NO\n",
      "  - parameters lower bounds :  1e-10 \n",
      "  - parameters upper bounds :  243.6391 \n",
      "  - best initial criterion value(s) :  -117.7135 \n",
      "\n",
      "N = 1, M = 5 machine precision = 2.22045e-16\n",
      "At X0, 0 variables are exactly at the bounds\n",
      "At iterate     0  f=       117.71  |proj g|=   6.7093e-05\n",
      "At iterate     1  f =       117.71  |proj g|=     6.707e-05\n",
      "\n",
      "iterations 1\n",
      "function evaluations 2\n",
      "segments explored during Cauchy searches 1\n",
      "BFGS updates skipped 0\n",
      "active bounds at final generalized Cauchy point 0\n",
      "norm of the final projected gradient 6.70705e-05\n",
      "final function value 117.714\n",
      "\n",
      "F = 117.714\n",
      "final  value 117.713502 \n",
      "converged\n"
     ]
    },
    {
     "name": "stderr",
     "output_type": "stream",
     "text": [
      "[mbo] 4: x=-0.0819 : y = 1.08e+04 : 0.0 secs : infill_ei\n",
      "\n"
     ]
    },
    {
     "name": "stdout",
     "output_type": "stream",
     "text": [
      "\n",
      "optimisation start\n",
      "------------------\n",
      "* estimation method   : MLE \n",
      "* optimisation method : BFGS \n",
      "* analytical gradient : used\n",
      "* trend model : ~1\n",
      "* covariance model : \n",
      "  - type :  matern3_2 \n",
      "  - nugget : NO\n",
      "  - parameters lower bounds :  1e-10 \n",
      "  - parameters upper bounds :  243.6391 \n",
      "  - best initial criterion value(s) :  -131.1706 \n",
      "\n",
      "N = 1, M = 5 machine precision = 2.22045e-16\n",
      "At X0, 0 variables are exactly at the bounds\n",
      "At iterate     0  f=       131.17  |proj g|=    0.0012119\n",
      "At iterate     1  f =       131.17  |proj g|=     0.0012117\n",
      "At iterate     2  f =       131.17  |proj g|=    0.00020185\n",
      "At iterate     3  f =       131.17  |proj g|=    2.7165e-05\n",
      "At iterate     4  f =       131.17  |proj g|=     5.207e-07\n",
      "At iterate     5  f =       131.17  |proj g|=    1.3762e-09\n",
      "\n",
      "iterations 5\n",
      "function evaluations 6\n",
      "segments explored during Cauchy searches 5\n",
      "BFGS updates skipped 0\n",
      "active bounds at final generalized Cauchy point 0\n",
      "norm of the final projected gradient 1.37623e-09\n",
      "final function value 131.166\n",
      "\n",
      "F = 131.166\n",
      "final  value 131.166467 \n",
      "converged\n"
     ]
    },
    {
     "name": "stderr",
     "output_type": "stream",
     "text": [
      "[mbo] 5: x=8.59 : y = 3.99e+03 : 0.0 secs : infill_ei\n",
      "\n"
     ]
    },
    {
     "name": "stdout",
     "output_type": "stream",
     "text": [
      "\n",
      "optimisation start\n",
      "------------------\n",
      "* estimation method   : MLE \n",
      "* optimisation method : BFGS \n",
      "* analytical gradient : used\n",
      "* trend model : ~1\n",
      "* covariance model : \n",
      "  - type :  matern3_2 \n",
      "  - nugget : NO\n",
      "  - parameters lower bounds :  1e-10 \n",
      "  - parameters upper bounds :  243.6391 \n",
      "  - best initial criterion value(s) :  -144.5837 \n",
      "\n",
      "N = 1, M = 5 machine precision = 2.22045e-16\n",
      "At X0, 0 variables are exactly at the bounds\n",
      "At iterate     0  f=       144.58  |proj g|=   0.00020308\n",
      "At iterate     1  f =       144.58  |proj g|=    0.00020305\n",
      "\n",
      "iterations 1\n",
      "function evaluations 2\n",
      "segments explored during Cauchy searches 1\n",
      "BFGS updates skipped 0\n",
      "active bounds at final generalized Cauchy point 0\n",
      "norm of the final projected gradient 0.000203055\n",
      "final function value 144.584\n",
      "\n",
      "F = 144.584\n",
      "final  value 144.583686 \n",
      "converged\n"
     ]
    },
    {
     "name": "stderr",
     "output_type": "stream",
     "text": [
      "[mbo] 6: x=-10.4 : y = 3.55e+04 : 0.0 secs : infill_ei\n",
      "\n"
     ]
    },
    {
     "name": "stdout",
     "output_type": "stream",
     "text": [
      "\n",
      "optimisation start\n",
      "------------------\n",
      "* estimation method   : MLE \n",
      "* optimisation method : BFGS \n",
      "* analytical gradient : used\n",
      "* trend model : ~1\n",
      "* covariance model : \n",
      "  - type :  matern3_2 \n",
      "  - nugget : NO\n",
      "  - parameters lower bounds :  1e-10 \n",
      "  - parameters upper bounds :  243.6391 \n",
      "  - best initial criterion value(s) :  -159.9088 \n",
      "\n",
      "N = 1, M = 5 machine precision = 2.22045e-16\n",
      "At X0, 0 variables are exactly at the bounds\n",
      "At iterate     0  f=       159.91  |proj g|=   1.3247e-05\n",
      "At iterate     1  f =       159.91  |proj g|=    1.3245e-05\n",
      "\n",
      "iterations 1\n",
      "function evaluations 2\n",
      "segments explored during Cauchy searches 1\n",
      "BFGS updates skipped 0\n",
      "active bounds at final generalized Cauchy point 0\n",
      "norm of the final projected gradient 1.32451e-05\n",
      "final function value 159.909\n",
      "\n",
      "F = 159.909\n",
      "final  value 159.908788 \n",
      "converged\n"
     ]
    },
    {
     "name": "stderr",
     "output_type": "stream",
     "text": [
      "[mbo] 7: x=-7.45 : y = 4.43e+04 : 0.0 secs : infill_ei\n",
      "\n"
     ]
    },
    {
     "name": "stdout",
     "output_type": "stream",
     "text": [
      "\n",
      "optimisation start\n",
      "------------------\n",
      "* estimation method   : MLE \n",
      "* optimisation method : BFGS \n",
      "* analytical gradient : used\n",
      "* trend model : ~1\n",
      "* covariance model : \n",
      "  - type :  matern3_2 \n",
      "  - nugget : NO\n",
      "  - parameters lower bounds :  1e-10 \n",
      "  - parameters upper bounds :  243.6391 \n",
      "  - best initial criterion value(s) :  -173.095 \n",
      "\n",
      "N = 1, M = 5 machine precision = 2.22045e-16\n",
      "At X0, 0 variables are exactly at the bounds\n",
      "At iterate     0  f=        173.1  |proj g|=   0.00046836\n",
      "At iterate     1  f =        173.1  |proj g|=    0.00046833\n",
      "\n",
      "iterations 1\n",
      "function evaluations 2\n",
      "segments explored during Cauchy searches 1\n",
      "BFGS updates skipped 0\n",
      "active bounds at final generalized Cauchy point 0\n",
      "norm of the final projected gradient 0.000468332\n",
      "final function value 173.095\n",
      "\n",
      "F = 173.095\n",
      "final  value 173.095003 \n",
      "converged\n"
     ]
    },
    {
     "name": "stderr",
     "output_type": "stream",
     "text": [
      "[mbo] 8: x=16.8 : y = 1.78e+04 : 0.0 secs : infill_ei\n",
      "\n"
     ]
    },
    {
     "name": "stdout",
     "output_type": "stream",
     "text": [
      "\n",
      "optimisation start\n",
      "------------------\n",
      "* estimation method   : MLE \n",
      "* optimisation method : BFGS \n",
      "* analytical gradient : used\n",
      "* trend model : ~1\n",
      "* covariance model : \n",
      "  - type :  matern3_2 \n",
      "  - nugget : NO\n",
      "  - parameters lower bounds :  1e-10 \n",
      "  - parameters upper bounds :  243.6391 \n",
      "  - best initial criterion value(s) :  -186.2278 \n",
      "\n",
      "N = 1, M = 5 machine precision = 2.22045e-16\n",
      "At X0, 0 variables are exactly at the bounds\n",
      "At iterate     0  f=       186.23  |proj g|=   3.9338e-05\n",
      "At iterate     1  f =       186.23  |proj g|=    3.9336e-05\n",
      "\n",
      "iterations 1\n",
      "function evaluations 2\n",
      "segments explored during Cauchy searches 1\n",
      "BFGS updates skipped 0\n",
      "active bounds at final generalized Cauchy point 0\n",
      "norm of the final projected gradient 3.93357e-05\n",
      "final function value 186.228\n",
      "\n",
      "F = 186.228\n",
      "final  value 186.227809 \n",
      "converged\n"
     ]
    },
    {
     "name": "stderr",
     "output_type": "stream",
     "text": [
      "[mbo] 9: x=-9.04 : y = 4.29e+04 : 0.0 secs : infill_ei\n",
      "\n"
     ]
    },
    {
     "name": "stdout",
     "output_type": "stream",
     "text": [
      "\n",
      "optimisation start\n",
      "------------------\n",
      "* estimation method   : MLE \n",
      "* optimisation method : BFGS \n",
      "* analytical gradient : used\n",
      "* trend model : ~1\n",
      "* covariance model : \n",
      "  - type :  matern3_2 \n",
      "  - nugget : NO\n",
      "  - parameters lower bounds :  1e-10 \n",
      "  - parameters upper bounds :  243.6391 \n",
      "  - best initial criterion value(s) :  -198.0001 \n",
      "\n",
      "N = 1, M = 5 machine precision = 2.22045e-16\n",
      "At X0, 0 variables are exactly at the bounds\n",
      "At iterate     0  f=          198  |proj g|=   0.00037414\n",
      "At iterate     1  f =          198  |proj g|=    0.00037412\n",
      "\n",
      "iterations 1\n",
      "function evaluations 2\n",
      "segments explored during Cauchy searches 1\n",
      "BFGS updates skipped 0\n",
      "active bounds at final generalized Cauchy point 0\n",
      "norm of the final projected gradient 0.000374119\n",
      "final function value 198\n",
      "\n",
      "F = 198\n",
      "final  value 198.000114 \n",
      "converged\n"
     ]
    },
    {
     "name": "stderr",
     "output_type": "stream",
     "text": [
      "[mbo] 10: x=-5.35 : y = 3.84e+04 : 0.0 secs : infill_ei\n",
      "\n"
     ]
    },
    {
     "name": "stdout",
     "output_type": "stream",
     "text": [
      "\n",
      "optimisation start\n",
      "------------------\n",
      "* estimation method   : MLE \n",
      "* optimisation method : BFGS \n",
      "* analytical gradient : used\n",
      "* trend model : ~1\n",
      "* covariance model : \n",
      "  - type :  matern3_2 \n",
      "  - nugget : NO\n",
      "  - parameters lower bounds :  1e-10 \n",
      "  - parameters upper bounds :  243.6391 \n",
      "  - best initial criterion value(s) :  -209.9556 \n",
      "\n",
      "N = 1, M = 5 machine precision = 2.22045e-16\n",
      "At X0, 0 variables are exactly at the bounds\n",
      "At iterate     0  f=       209.96  |proj g|=   0.00045195\n",
      "At iterate     1  f =       209.96  |proj g|=    0.00045194\n",
      "\n",
      "iterations 1\n",
      "function evaluations 2\n",
      "segments explored during Cauchy searches 1\n",
      "BFGS updates skipped 0\n",
      "active bounds at final generalized Cauchy point 0\n",
      "norm of the final projected gradient 0.000451937\n",
      "final function value 209.956\n",
      "\n",
      "F = 209.956\n",
      "final  value 209.955570 \n",
      "converged\n"
     ]
    },
    {
     "name": "stderr",
     "output_type": "stream",
     "text": [
      "[mbo] 11: x=24.5 : y = -1.54e+05 : 0.0 secs : infill_ei\n",
      "\n"
     ]
    },
    {
     "name": "stdout",
     "output_type": "stream",
     "text": [
      "\n",
      "optimisation start\n",
      "------------------\n",
      "* estimation method   : MLE \n",
      "* optimisation method : BFGS \n",
      "* analytical gradient : used\n",
      "* trend model : ~1\n",
      "* covariance model : \n",
      "  - type :  matern3_2 \n",
      "  - nugget : NO\n",
      "  - parameters lower bounds :  1e-10 \n",
      "  - parameters upper bounds :  243.6391 \n",
      "  - best initial criterion value(s) :  -222.8866 \n",
      "\n",
      "N = 1, M = 5 machine precision = 2.22045e-16\n",
      "At X0, 0 variables are exactly at the bounds\n",
      "At iterate     0  f=       222.89  |proj g|=   0.00039211\n",
      "At iterate     1  f =       222.89  |proj g|=    0.00039209\n",
      "\n",
      "iterations 1\n",
      "function evaluations 2\n",
      "segments explored during Cauchy searches 1\n",
      "BFGS updates skipped 0\n",
      "active bounds at final generalized Cauchy point 0\n",
      "norm of the final projected gradient 0.000392094\n",
      "final function value 222.887\n",
      "\n",
      "F = 222.887\n",
      "final  value 222.886557 \n",
      "converged\n"
     ]
    },
    {
     "name": "stderr",
     "output_type": "stream",
     "text": [
      "[mbo] 12: x=-14.6 : y = -4.15e+04 : 0.0 secs : infill_ei\n",
      "\n"
     ]
    },
    {
     "name": "stdout",
     "output_type": "stream",
     "text": [
      "\n",
      "optimisation start\n",
      "------------------\n",
      "* estimation method   : MLE \n",
      "* optimisation method : BFGS \n",
      "* analytical gradient : used\n",
      "* trend model : ~1\n",
      "* covariance model : \n",
      "  - type :  matern3_2 \n",
      "  - nugget : NO\n",
      "  - parameters lower bounds :  1e-10 \n",
      "  - parameters upper bounds :  243.6391 \n",
      "  - best initial criterion value(s) :  -237.1194 \n",
      "\n",
      "N = 1, M = 5 machine precision = 2.22045e-16\n",
      "At X0, 0 variables are exactly at the bounds\n",
      "At iterate     0  f=       237.12  |proj g|=   0.00066385\n",
      "At iterate     1  f =       237.12  |proj g|=    0.00066382\n",
      "\n",
      "iterations 1\n",
      "function evaluations 2\n",
      "segments explored during Cauchy searches 1\n",
      "BFGS updates skipped 0\n",
      "active bounds at final generalized Cauchy point 0\n",
      "norm of the final projected gradient 0.000663819\n",
      "final function value 237.119\n",
      "\n",
      "F = 237.119\n",
      "final  value 237.119400 \n",
      "converged\n"
     ]
    },
    {
     "name": "stderr",
     "output_type": "stream",
     "text": [
      "[mbo] 13: x=-12.5 : y = 1e+04 : 0.0 secs : infill_ei\n",
      "\n"
     ]
    },
    {
     "name": "stdout",
     "output_type": "stream",
     "text": [
      "\n",
      "optimisation start\n",
      "------------------\n",
      "* estimation method   : MLE \n",
      "* optimisation method : BFGS \n",
      "* analytical gradient : used\n",
      "* trend model : ~1\n",
      "* covariance model : \n",
      "  - type :  matern3_2 \n",
      "  - nugget : NO\n",
      "  - parameters lower bounds :  1e-10 \n",
      "  - parameters upper bounds :  243.6391 \n",
      "  - best initial criterion value(s) :  -249.1523 \n",
      "\n",
      "N = 1, M = 5 machine precision = 2.22045e-16\n",
      "At X0, 0 variables are exactly at the bounds\n",
      "At iterate     0  f=       249.15  |proj g|=    0.0018325\n",
      "At iterate     1  f =       249.15  |proj g|=     0.0018324\n",
      "At iterate     2  f =       249.13  |proj g|=             0\n",
      "\n",
      "iterations 2\n",
      "function evaluations 3\n",
      "segments explored during Cauchy searches 2\n",
      "BFGS updates skipped 0\n",
      "active bounds at final generalized Cauchy point 1\n",
      "norm of the final projected gradient 0\n",
      "final function value 249.131\n",
      "\n",
      "F = 249.131\n",
      "final  value 249.131251 \n",
      "converged\n"
     ]
    },
    {
     "name": "stderr",
     "output_type": "stream",
     "text": [
      "[mbo] 14: x=14.8 : y = 2.15e+04 : 0.0 secs : infill_ei\n",
      "\n"
     ]
    },
    {
     "name": "stdout",
     "output_type": "stream",
     "text": [
      "\n",
      "optimisation start\n",
      "------------------\n",
      "* estimation method   : MLE \n",
      "* optimisation method : BFGS \n",
      "* analytical gradient : used\n",
      "* trend model : ~1\n",
      "* covariance model : \n",
      "  - type :  matern3_2 \n",
      "  - nugget : NO\n",
      "  - parameters lower bounds :  1e-10 \n",
      "  - parameters upper bounds :  243.6391 \n",
      "  - best initial criterion value(s) :  -260.9896 \n",
      "\n",
      "N = 1, M = 5 machine precision = 2.22045e-16\n",
      "At X0, 0 variables are exactly at the bounds\n",
      "At iterate     0  f=       260.99  |proj g|=    0.0023088\n",
      "At iterate     1  f =       260.99  |proj g|=     0.0023086\n",
      "At iterate     2  f =       260.97  |proj g|=             0\n",
      "\n",
      "iterations 2\n",
      "function evaluations 3\n",
      "segments explored during Cauchy searches 2\n",
      "BFGS updates skipped 0\n",
      "active bounds at final generalized Cauchy point 1\n",
      "norm of the final projected gradient 0\n",
      "final function value 260.972\n",
      "\n",
      "F = 260.972\n",
      "final  value 260.972108 \n",
      "converged\n"
     ]
    },
    {
     "name": "stderr",
     "output_type": "stream",
     "text": [
      "[mbo] 15: x=6.26 : y = -1.18e+03 : 0.0 secs : infill_ei\n",
      "\n"
     ]
    },
    {
     "name": "stdout",
     "output_type": "stream",
     "text": [
      "\n",
      "optimisation start\n",
      "------------------\n",
      "* estimation method   : MLE \n",
      "* optimisation method : BFGS \n",
      "* analytical gradient : used\n",
      "* trend model : ~1\n",
      "* covariance model : \n",
      "  - type :  matern3_2 \n",
      "  - nugget : NO\n",
      "  - parameters lower bounds :  1e-10 \n",
      "  - parameters upper bounds :  243.6391 \n",
      "  - best initial criterion value(s) :  -273.1302 \n",
      "\n",
      "N = 1, M = 5 machine precision = 2.22045e-16\n",
      "At X0, 0 variables are exactly at the bounds\n",
      "At iterate     0  f=       273.13  |proj g|=    0.0053587\n",
      "At iterate     1  f =       273.13  |proj g|=     0.0053582\n",
      "At iterate     2  f =       272.99  |proj g|=             0\n",
      "\n",
      "iterations 2\n",
      "function evaluations 3\n",
      "segments explored during Cauchy searches 2\n",
      "BFGS updates skipped 0\n",
      "active bounds at final generalized Cauchy point 1\n",
      "norm of the final projected gradient 0\n",
      "final function value 272.986\n",
      "\n",
      "F = 272.986\n",
      "final  value 272.985749 \n",
      "converged\n"
     ]
    },
    {
     "name": "stderr",
     "output_type": "stream",
     "text": [
      "[mbo] 16: x=18.8 : y = 2.56e+03 : 0.0 secs : infill_ei\n",
      "\n"
     ]
    },
    {
     "name": "stdout",
     "output_type": "stream",
     "text": [
      "\n",
      "optimisation start\n",
      "------------------\n",
      "* estimation method   : MLE \n",
      "* optimisation method : BFGS \n",
      "* analytical gradient : used\n",
      "* trend model : ~1\n",
      "* covariance model : \n",
      "  - type :  matern3_2 \n",
      "  - nugget : NO\n",
      "  - parameters lower bounds :  1e-10 \n",
      "  - parameters upper bounds :  243.6391 \n",
      "  - best initial criterion value(s) :  -284.8369 \n",
      "\n",
      "N = 1, M = 5 machine precision = 2.22045e-16\n",
      "At X0, 0 variables are exactly at the bounds\n",
      "At iterate     0  f=       284.84  |proj g|=    0.0036078\n",
      "At iterate     1  f =       284.84  |proj g|=     0.0036076\n",
      "At iterate     2  f =       284.82  |proj g|=             0\n",
      "\n",
      "iterations 2\n",
      "function evaluations 3\n",
      "segments explored during Cauchy searches 2\n",
      "BFGS updates skipped 0\n",
      "active bounds at final generalized Cauchy point 1\n",
      "norm of the final projected gradient 0\n",
      "final function value 284.821\n",
      "\n",
      "F = 284.821\n",
      "final  value 284.820738 \n",
      "converged\n"
     ]
    },
    {
     "name": "stderr",
     "output_type": "stream",
     "text": [
      "[mbo] 17: x=10.8 : y = 1.15e+04 : 0.0 secs : infill_ei\n",
      "\n"
     ]
    },
    {
     "name": "stdout",
     "output_type": "stream",
     "text": [
      "\n",
      "optimisation start\n",
      "------------------\n",
      "* estimation method   : MLE \n",
      "* optimisation method : BFGS \n",
      "* analytical gradient : used\n",
      "* trend model : ~1\n",
      "* covariance model : \n",
      "  - type :  matern3_2 \n",
      "  - nugget : NO\n",
      "  - parameters lower bounds :  1e-10 \n",
      "  - parameters upper bounds :  243.6391 \n",
      "  - best initial criterion value(s) :  -296.5881 \n",
      "\n",
      "N = 1, M = 5 machine precision = 2.22045e-16\n",
      "At X0, 0 variables are exactly at the bounds\n",
      "At iterate     0  f=       296.59  |proj g|=    0.0051984\n",
      "At iterate     1  f =       296.59  |proj g|=      0.005198\n",
      "At iterate     2  f =       296.52  |proj g|=             0\n",
      "\n",
      "iterations 2\n",
      "function evaluations 3\n",
      "segments explored during Cauchy searches 2\n",
      "BFGS updates skipped 0\n",
      "active bounds at final generalized Cauchy point 1\n",
      "norm of the final projected gradient 0\n",
      "final function value 296.516\n",
      "\n",
      "F = 296.516\n",
      "final  value 296.516252 \n",
      "converged\n"
     ]
    },
    {
     "name": "stderr",
     "output_type": "stream",
     "text": [
      "[mbo] 18: x=-6.47 : y = 4.24e+04 : 0.0 secs : infill_ei\n",
      "\n"
     ]
    },
    {
     "name": "stdout",
     "output_type": "stream",
     "text": [
      "\n",
      "optimisation start\n",
      "------------------\n",
      "* estimation method   : MLE \n",
      "* optimisation method : BFGS \n",
      "* analytical gradient : used\n",
      "* trend model : ~1\n",
      "* covariance model : \n",
      "  - type :  matern3_2 \n",
      "  - nugget : NO\n",
      "  - parameters lower bounds :  1e-10 \n",
      "  - parameters upper bounds :  243.6391 \n",
      "  - best initial criterion value(s) :  -307.2532 \n",
      "\n",
      "N = 1, M = 5 machine precision = 2.22045e-16\n",
      "At X0, 0 variables are exactly at the bounds\n",
      "At iterate     0  f=       307.25  |proj g|=    0.0049402\n",
      "At iterate     1  f =       307.25  |proj g|=     0.0049398\n",
      "At iterate     2  f =       307.24  |proj g|=             0\n",
      "\n",
      "iterations 2\n",
      "function evaluations 3\n",
      "segments explored during Cauchy searches 2\n",
      "BFGS updates skipped 0\n",
      "active bounds at final generalized Cauchy point 1\n",
      "norm of the final projected gradient 0\n",
      "final function value 307.241\n",
      "\n",
      "F = 307.241\n",
      "final  value 307.241302 \n",
      "converged\n"
     ]
    },
    {
     "name": "stderr",
     "output_type": "stream",
     "text": [
      "[mbo] 19: x=-8.23 : y = 4.44e+04 : 0.0 secs : infill_ei\n",
      "\n"
     ]
    },
    {
     "name": "stdout",
     "output_type": "stream",
     "text": [
      "\n",
      "optimisation start\n",
      "------------------\n",
      "* estimation method   : MLE \n",
      "* optimisation method : BFGS \n",
      "* analytical gradient : used\n",
      "* trend model : ~1\n",
      "* covariance model : \n",
      "  - type :  matern3_2 \n",
      "  - nugget : NO\n",
      "  - parameters lower bounds :  1e-10 \n",
      "  - parameters upper bounds :  243.6391 \n",
      "  - best initial criterion value(s) :  -317.5494 \n",
      "\n",
      "N = 1, M = 5 machine precision = 2.22045e-16\n",
      "At X0, 0 variables are exactly at the bounds\n",
      "At iterate     0  f=       317.55  |proj g|=    0.0060871\n",
      "At iterate     1  f =       317.55  |proj g|=     0.0060865\n",
      "At iterate     2  f =       317.51  |proj g|=             0\n",
      "\n",
      "iterations 2\n",
      "function evaluations 3\n",
      "segments explored during Cauchy searches 2\n",
      "BFGS updates skipped 0\n",
      "active bounds at final generalized Cauchy point 1\n",
      "norm of the final projected gradient 0\n",
      "final function value 317.507\n",
      "\n",
      "F = 317.507\n",
      "final  value 317.506756 \n",
      "converged\n"
     ]
    },
    {
     "name": "stderr",
     "output_type": "stream",
     "text": [
      "[mbo] 20: x=1.78 : y = 3.24e+03 : 0.0 secs : infill_ei\n",
      "\n"
     ]
    },
    {
     "name": "stdout",
     "output_type": "stream",
     "text": [
      "\n",
      "optimisation start\n",
      "------------------\n",
      "* estimation method   : MLE \n",
      "* optimisation method : BFGS \n",
      "* analytical gradient : used\n",
      "* trend model : ~1\n",
      "* covariance model : \n",
      "  - type :  matern3_2 \n",
      "  - nugget : NO\n",
      "  - parameters lower bounds :  1e-10 \n",
      "  - parameters upper bounds :  243.6391 \n",
      "  - best initial criterion value(s) :  -329.1344 \n",
      "\n",
      "N = 1, M = 5 machine precision = 2.22045e-16\n",
      "At X0, 0 variables are exactly at the bounds\n",
      "At iterate     0  f=       329.13  |proj g|=    0.0068567\n",
      "At iterate     1  f =       329.13  |proj g|=     0.0068561\n",
      "At iterate     2  f =       329.09  |proj g|=             0\n",
      "\n",
      "iterations 2\n",
      "function evaluations 3\n",
      "segments explored during Cauchy searches 2\n",
      "BFGS updates skipped 0\n",
      "active bounds at final generalized Cauchy point 1\n",
      "norm of the final projected gradient 0\n",
      "final function value 329.086\n",
      "\n",
      "F = 329.086\n",
      "final  value 329.086146 \n",
      "converged\n"
     ]
    },
    {
     "name": "stderr",
     "output_type": "stream",
     "text": [
      "[mbo] 21: x=-4.28 : y = 3.33e+04 : 0.0 secs : infill_ei\n",
      "\n"
     ]
    },
    {
     "name": "stdout",
     "output_type": "stream",
     "text": [
      "\n",
      "optimisation start\n",
      "------------------\n",
      "* estimation method   : MLE \n",
      "* optimisation method : BFGS \n",
      "* analytical gradient : used\n",
      "* trend model : ~1\n",
      "* covariance model : \n",
      "  - type :  matern3_2 \n",
      "  - nugget : NO\n",
      "  - parameters lower bounds :  1e-10 \n",
      "  - parameters upper bounds :  243.6391 \n",
      "  - best initial criterion value(s) :  -339.9741 \n",
      "\n",
      "N = 1, M = 5 machine precision = 2.22045e-16\n",
      "At X0, 0 variables are exactly at the bounds\n",
      "At iterate     0  f=       339.97  |proj g|=    0.0084681\n",
      "At iterate     1  f =       339.97  |proj g|=     0.0084671\n",
      "At iterate     2  f =       339.86  |proj g|=             0\n",
      "\n",
      "iterations 2\n",
      "function evaluations 3\n",
      "segments explored during Cauchy searches 2\n",
      "BFGS updates skipped 0\n",
      "active bounds at final generalized Cauchy point 1\n",
      "norm of the final projected gradient 0\n",
      "final function value 339.856\n",
      "\n",
      "F = 339.856\n",
      "final  value 339.855810 \n",
      "converged\n"
     ]
    },
    {
     "name": "stderr",
     "output_type": "stream",
     "text": [
      "[mbo] 22: x=-1.66 : y = 1.89e+04 : 0.0 secs : infill_ei\n",
      "\n"
     ]
    },
    {
     "name": "stdout",
     "output_type": "stream",
     "text": [
      "\n",
      "optimisation start\n",
      "------------------\n",
      "* estimation method   : MLE \n",
      "* optimisation method : BFGS \n",
      "* analytical gradient : used\n",
      "* trend model : ~1\n",
      "* covariance model : \n",
      "  - type :  matern3_2 \n",
      "  - nugget : NO\n",
      "  - parameters lower bounds :  1e-10 \n",
      "  - parameters upper bounds :  243.6391 \n",
      "  - best initial criterion value(s) :  -350.954 \n",
      "\n",
      "N = 1, M = 5 machine precision = 2.22045e-16\n",
      "At X0, 0 variables are exactly at the bounds\n",
      "At iterate     0  f=       350.95  |proj g|=    0.0081043\n",
      "At iterate     1  f =       350.95  |proj g|=     0.0081034\n",
      "At iterate     2  f =       350.92  |proj g|=             0\n",
      "\n",
      "iterations 2\n",
      "function evaluations 3\n",
      "segments explored during Cauchy searches 2\n",
      "BFGS updates skipped 0\n",
      "active bounds at final generalized Cauchy point 1\n",
      "norm of the final projected gradient 0\n",
      "final function value 350.918\n",
      "\n",
      "F = 350.918\n",
      "final  value 350.917519 \n",
      "converged\n"
     ]
    },
    {
     "name": "stderr",
     "output_type": "stream",
     "text": [
      "[mbo] 23: x=-9.65 : y = 4.04e+04 : 0.0 secs : infill_ei\n",
      "\n"
     ]
    },
    {
     "name": "stdout",
     "output_type": "stream",
     "text": [
      "\n",
      "optimisation start\n",
      "------------------\n",
      "* estimation method   : MLE \n",
      "* optimisation method : BFGS \n",
      "* analytical gradient : used\n",
      "* trend model : ~1\n",
      "* covariance model : \n",
      "  - type :  matern3_2 \n",
      "  - nugget : NO\n",
      "  - parameters lower bounds :  1e-10 \n",
      "  - parameters upper bounds :  243.6391 \n",
      "  - best initial criterion value(s) :  -360.9603 \n",
      "\n",
      "N = 1, M = 5 machine precision = 2.22045e-16\n",
      "At X0, 0 variables are exactly at the bounds\n",
      "At iterate     0  f=       360.96  |proj g|=    0.0091175\n",
      "At iterate     1  f =       360.96  |proj g|=     0.0091164\n",
      "At iterate     2  f =        360.9  |proj g|=             0\n",
      "\n",
      "iterations 2\n",
      "function evaluations 3\n",
      "segments explored during Cauchy searches 2\n",
      "BFGS updates skipped 0\n",
      "active bounds at final generalized Cauchy point 1\n",
      "norm of the final projected gradient 0\n",
      "final function value 360.899\n",
      "\n",
      "F = 360.899\n",
      "final  value 360.898878 \n",
      "converged\n"
     ]
    },
    {
     "name": "stderr",
     "output_type": "stream",
     "text": [
      "[mbo] 24: x=-6.99 : y = 4.37e+04 : 0.0 secs : infill_ei\n",
      "\n"
     ]
    },
    {
     "name": "stdout",
     "output_type": "stream",
     "text": [
      "\n",
      "optimisation start\n",
      "------------------\n",
      "* estimation method   : MLE \n",
      "* optimisation method : BFGS \n",
      "* analytical gradient : used\n",
      "* trend model : ~1\n",
      "* covariance model : \n",
      "  - type :  matern3_2 \n",
      "  - nugget : NO\n",
      "  - parameters lower bounds :  1e-10 \n",
      "  - parameters upper bounds :  243.6391 \n",
      "  - best initial criterion value(s) :  -370.4872 \n",
      "\n",
      "N = 1, M = 5 machine precision = 2.22045e-16\n",
      "At X0, 0 variables are exactly at the bounds\n",
      "At iterate     0  f=       370.49  |proj g|=     0.010579\n",
      "At iterate     1  f =       370.49  |proj g|=      0.010578\n",
      "At iterate     2  f =       370.36  |proj g|=             0\n",
      "\n",
      "iterations 2\n",
      "function evaluations 3\n",
      "segments explored during Cauchy searches 2\n",
      "BFGS updates skipped 0\n",
      "active bounds at final generalized Cauchy point 1\n",
      "norm of the final projected gradient 0\n",
      "final function value 370.363\n",
      "\n",
      "F = 370.363\n",
      "final  value 370.362548 \n",
      "converged\n"
     ]
    },
    {
     "name": "stderr",
     "output_type": "stream",
     "text": [
      "[mbo] 25: x=-7.85 : y = 4.46e+04 : 0.0 secs : infill_ei\n",
      "\n"
     ]
    },
    {
     "name": "stdout",
     "output_type": "stream",
     "text": [
      "\n",
      "optimisation start\n",
      "------------------\n",
      "* estimation method   : MLE \n",
      "* optimisation method : BFGS \n",
      "* analytical gradient : used\n",
      "* trend model : ~1\n",
      "* covariance model : \n",
      "  - type :  matern3_2 \n",
      "  - nugget : NO\n",
      "  - parameters lower bounds :  1e-10 \n",
      "  - parameters upper bounds :  243.6391 \n",
      "  - best initial criterion value(s) :  -379.5068 \n",
      "\n",
      "N = 1, M = 5 machine precision = 2.22045e-16\n",
      "At X0, 0 variables are exactly at the bounds\n",
      "At iterate     0  f=       379.51  |proj g|=     0.010476\n",
      "At iterate     1  f =       379.51  |proj g|=      0.010475\n",
      "At iterate     2  f =       379.45  |proj g|=             0\n",
      "\n",
      "iterations 2\n",
      "function evaluations 3\n",
      "segments explored during Cauchy searches 2\n",
      "BFGS updates skipped 0\n",
      "active bounds at final generalized Cauchy point 1\n",
      "norm of the final projected gradient 0\n",
      "final function value 379.45\n",
      "\n",
      "F = 379.45\n",
      "final  value 379.449515 \n",
      "converged\n"
     ]
    }
   ],
   "source": [
    "run  <- mbo( fun=      obj.fun, \n",
    "             learner= fproxy, \n",
    "             control= ctrl )"
   ]
  },
  {
   "cell_type": "code",
   "execution_count": 10,
   "metadata": {
    "tags": []
   },
   "outputs": [],
   "source": [
    "tb_resultados  <- as.data.table( run$opt.path )"
   ]
  },
  {
   "cell_type": "code",
   "execution_count": 11,
   "metadata": {
    "tags": []
   },
   "outputs": [
    {
     "data": {
      "text/html": [
       "<table class=\"dataframe\">\n",
       "<caption>A data.table: 29 × 13</caption>\n",
       "<thead>\n",
       "\t<tr><th scope=col>x</th><th scope=col>y</th><th scope=col>dob</th><th scope=col>eol</th><th scope=col>error.message</th><th scope=col>exec.time</th><th scope=col>ei</th><th scope=col>error.model</th><th scope=col>train.time</th><th scope=col>prop.type</th><th scope=col>propose.time</th><th scope=col>se</th><th scope=col>mean</th></tr>\n",
       "\t<tr><th scope=col>&lt;dbl&gt;</th><th scope=col>&lt;dbl&gt;</th><th scope=col>&lt;int&gt;</th><th scope=col>&lt;int&gt;</th><th scope=col>&lt;chr&gt;</th><th scope=col>&lt;dbl&gt;</th><th scope=col>&lt;dbl&gt;</th><th scope=col>&lt;chr&gt;</th><th scope=col>&lt;dbl&gt;</th><th scope=col>&lt;chr&gt;</th><th scope=col>&lt;dbl&gt;</th><th scope=col>&lt;dbl&gt;</th><th scope=col>&lt;dbl&gt;</th></tr>\n",
       "</thead>\n",
       "<tbody>\n",
       "\t<tr><td>-58.79346573</td><td>-28966895.068</td><td> 0</td><td>NA</td><td>NA</td><td>0.02</td><td>          NA</td><td>NA</td><td>  NA</td><td>initdesign</td><td>  NA</td><td>         NA</td><td>          NA</td></tr>\n",
       "\t<tr><td> 28.82123275</td><td>  -462859.395</td><td> 0</td><td>NA</td><td>NA</td><td>0.00</td><td>          NA</td><td>NA</td><td>  NA</td><td>initdesign</td><td>  NA</td><td>         NA</td><td>          NA</td></tr>\n",
       "\t<tr><td> 63.02610189</td><td>-22513006.726</td><td> 0</td><td>NA</td><td>NA</td><td>0.00</td><td>          NA</td><td>NA</td><td>  NA</td><td>initdesign</td><td>  NA</td><td>         NA</td><td>          NA</td></tr>\n",
       "\t<tr><td> -3.04087994</td><td>    26628.817</td><td> 0</td><td>NA</td><td>NA</td><td>0.00</td><td>          NA</td><td>NA</td><td>  NA</td><td>initdesign</td><td>  NA</td><td>         NA</td><td>          NA</td></tr>\n",
       "\t<tr><td> 12.76468215</td><td>    18086.180</td><td> 1</td><td>NA</td><td>NA</td><td>0.00</td><td>-3266142.322</td><td>NA</td><td>0.61</td><td>infill_ei </td><td>0.49</td><td>8567035.313</td><td> -280998.123</td></tr>\n",
       "\t<tr><td>  3.85207797</td><td>    -1369.430</td><td> 2</td><td>NA</td><td>NA</td><td>0.00</td><td> -969907.267</td><td>NA</td><td>0.06</td><td>infill_ei </td><td>0.53</td><td>1915230.547</td><td>  408098.642</td></tr>\n",
       "\t<tr><td> 21.31183604</td><td>   -41577.486</td><td> 3</td><td>NA</td><td>NA</td><td>0.00</td><td> -689308.341</td><td>NA</td><td>0.06</td><td>infill_ei </td><td>0.61</td><td>1166292.936</td><td>  421774.234</td></tr>\n",
       "\t<tr><td> -0.08185126</td><td>    10759.925</td><td> 4</td><td>NA</td><td>NA</td><td>0.00</td><td> -157847.745</td><td>NA</td><td>0.05</td><td>infill_ei </td><td>0.56</td><td> 289353.002</td><td>  103379.588</td></tr>\n",
       "\t<tr><td>  8.58822527</td><td>     3989.860</td><td> 5</td><td>NA</td><td>NA</td><td>0.00</td><td> -111356.484</td><td>NA</td><td>0.07</td><td>infill_ei </td><td>0.66</td><td> 288699.688</td><td>   18910.443</td></tr>\n",
       "\t<tr><td>-10.42457045</td><td>    35452.942</td><td> 6</td><td>NA</td><td>NA</td><td>0.00</td><td>  -81148.876</td><td>NA</td><td>0.07</td><td>infill_ei </td><td>0.70</td><td>1054684.434</td><td>-1071792.299</td></tr>\n",
       "\t<tr><td> -7.44548136</td><td>    44329.045</td><td> 7</td><td>NA</td><td>NA</td><td>0.00</td><td> -137838.162</td><td>NA</td><td>0.05</td><td>infill_ei </td><td>0.64</td><td> 199388.881</td><td>  133270.451</td></tr>\n",
       "\t<tr><td> 16.78922145</td><td>    17779.612</td><td> 8</td><td>NA</td><td>NA</td><td>0.00</td><td>  -59193.521</td><td>NA</td><td>0.07</td><td>infill_ei </td><td>0.50</td><td> 206272.035</td><td>   -6918.696</td></tr>\n",
       "\t<tr><td> -9.04106611</td><td>    42884.558</td><td> 9</td><td>NA</td><td>NA</td><td>0.00</td><td>  -28648.673</td><td>NA</td><td>0.05</td><td>infill_ei </td><td>0.56</td><td>  50246.563</td><td>   59679.073</td></tr>\n",
       "\t<tr><td> -5.35087215</td><td>    38422.525</td><td>10</td><td>NA</td><td>NA</td><td>0.00</td><td>  -23437.662</td><td>NA</td><td>0.03</td><td>infill_ei </td><td>0.44</td><td>  64397.429</td><td>   39689.353</td></tr>\n",
       "\t<tr><td> 24.47221385</td><td>  -153860.510</td><td>11</td><td>NA</td><td>NA</td><td>0.00</td><td>  -16055.072</td><td>NA</td><td>0.05</td><td>infill_ei </td><td>0.43</td><td> 149230.316</td><td>  -84333.492</td></tr>\n",
       "\t<tr><td>-14.61918968</td><td>   -41470.599</td><td>12</td><td>NA</td><td>NA</td><td>0.00</td><td>  -14254.564</td><td>NA</td><td>0.03</td><td>infill_ei </td><td>0.38</td><td> 338998.669</td><td> -408959.879</td></tr>\n",
       "\t<tr><td>-12.47071078</td><td>    10035.099</td><td>13</td><td>NA</td><td>NA</td><td>0.00</td><td>  -20192.300</td><td>NA</td><td>0.05</td><td>infill_ei </td><td>0.34</td><td>  61560.550</td><td>   35036.946</td></tr>\n",
       "\t<tr><td> 14.78485402</td><td>    21489.456</td><td>14</td><td>NA</td><td>NA</td><td>0.00</td><td>  -12653.520</td><td>NA</td><td>0.01</td><td>infill_ei </td><td>0.30</td><td>  56179.322</td><td>   21001.861</td></tr>\n",
       "\t<tr><td>  6.26313853</td><td>    -1179.888</td><td>15</td><td>NA</td><td>NA</td><td>0.00</td><td>   -9849.273</td><td>NA</td><td>0.05</td><td>infill_ei </td><td>0.47</td><td>  66725.389</td><td>   -1090.557</td></tr>\n",
       "\t<tr><td> 18.78384112</td><td>     2555.695</td><td>16</td><td>NA</td><td>NA</td><td>0.00</td><td>   -7761.497</td><td>NA</td><td>0.05</td><td>infill_ei </td><td>0.65</td><td>  55734.835</td><td>    4472.211</td></tr>\n",
       "\t<tr><td> 10.77079977</td><td>    11463.853</td><td>17</td><td>NA</td><td>NA</td><td>0.00</td><td>   -7206.864</td><td>NA</td><td>0.07</td><td>infill_ei </td><td>0.53</td><td>  48478.270</td><td>   11535.347</td></tr>\n",
       "\t<tr><td> -6.46845541</td><td>    42427.303</td><td>18</td><td>NA</td><td>NA</td><td>0.00</td><td>   -6432.440</td><td>NA</td><td>0.01</td><td>infill_ei </td><td>0.41</td><td>  18358.158</td><td>   42471.301</td></tr>\n",
       "\t<tr><td> -8.22852169</td><td>    44431.128</td><td>19</td><td>NA</td><td>NA</td><td>0.00</td><td>   -4628.626</td><td>NA</td><td>0.03</td><td>infill_ei </td><td>0.32</td><td>  11587.461</td><td>   44340.837</td></tr>\n",
       "\t<tr><td>  1.78139783</td><td>     3237.125</td><td>20</td><td>NA</td><td>NA</td><td>0.00</td><td>   -3910.262</td><td>NA</td><td>0.01</td><td>infill_ei </td><td>0.35</td><td>  43095.140</td><td>    3283.378</td></tr>\n",
       "\t<tr><td> -4.27919681</td><td>    33336.201</td><td>21</td><td>NA</td><td>NA</td><td>0.00</td><td>   -3346.426</td><td>NA</td><td>0.01</td><td>infill_ei </td><td>0.33</td><td>  19168.058</td><td>   33338.110</td></tr>\n",
       "\t<tr><td> -1.66448162</td><td>    18933.978</td><td>22</td><td>NA</td><td>NA</td><td>0.00</td><td>   -2166.015</td><td>NA</td><td>0.01</td><td>infill_ei </td><td>0.31</td><td>  25658.752</td><td>   18949.464</td></tr>\n",
       "\t<tr><td> -9.65461144</td><td>    40406.795</td><td>23</td><td>NA</td><td>NA</td><td>0.00</td><td>   -1907.369</td><td>NA</td><td>0.01</td><td>infill_ei </td><td>0.34</td><td>   8703.470</td><td>   40659.462</td></tr>\n",
       "\t<tr><td> -6.99274789</td><td>    43666.259</td><td>24</td><td>NA</td><td>NA</td><td>0.00</td><td>   -1709.695</td><td>NA</td><td>0.03</td><td>infill_ei </td><td>0.31</td><td>   5186.833</td><td>   43667.221</td></tr>\n",
       "\t<tr><td> -7.85027090</td><td>    44559.264</td><td>25</td><td>NA</td><td>NA</td><td>0.00</td><td>   -1483.248</td><td>NA</td><td>0.03</td><td>infill_ei </td><td>0.34</td><td>   3557.640</td><td>   44557.255</td></tr>\n",
       "</tbody>\n",
       "</table>\n"
      ],
      "text/latex": [
       "A data.table: 29 × 13\n",
       "\\begin{tabular}{lllllllllllll}\n",
       " x & y & dob & eol & error.message & exec.time & ei & error.model & train.time & prop.type & propose.time & se & mean\\\\\n",
       " <dbl> & <dbl> & <int> & <int> & <chr> & <dbl> & <dbl> & <chr> & <dbl> & <chr> & <dbl> & <dbl> & <dbl>\\\\\n",
       "\\hline\n",
       "\t -58.79346573 & -28966895.068 &  0 & NA & NA & 0.02 &           NA & NA &   NA & initdesign &   NA &          NA &           NA\\\\\n",
       "\t  28.82123275 &   -462859.395 &  0 & NA & NA & 0.00 &           NA & NA &   NA & initdesign &   NA &          NA &           NA\\\\\n",
       "\t  63.02610189 & -22513006.726 &  0 & NA & NA & 0.00 &           NA & NA &   NA & initdesign &   NA &          NA &           NA\\\\\n",
       "\t  -3.04087994 &     26628.817 &  0 & NA & NA & 0.00 &           NA & NA &   NA & initdesign &   NA &          NA &           NA\\\\\n",
       "\t  12.76468215 &     18086.180 &  1 & NA & NA & 0.00 & -3266142.322 & NA & 0.61 & infill\\_ei  & 0.49 & 8567035.313 &  -280998.123\\\\\n",
       "\t   3.85207797 &     -1369.430 &  2 & NA & NA & 0.00 &  -969907.267 & NA & 0.06 & infill\\_ei  & 0.53 & 1915230.547 &   408098.642\\\\\n",
       "\t  21.31183604 &    -41577.486 &  3 & NA & NA & 0.00 &  -689308.341 & NA & 0.06 & infill\\_ei  & 0.61 & 1166292.936 &   421774.234\\\\\n",
       "\t  -0.08185126 &     10759.925 &  4 & NA & NA & 0.00 &  -157847.745 & NA & 0.05 & infill\\_ei  & 0.56 &  289353.002 &   103379.588\\\\\n",
       "\t   8.58822527 &      3989.860 &  5 & NA & NA & 0.00 &  -111356.484 & NA & 0.07 & infill\\_ei  & 0.66 &  288699.688 &    18910.443\\\\\n",
       "\t -10.42457045 &     35452.942 &  6 & NA & NA & 0.00 &   -81148.876 & NA & 0.07 & infill\\_ei  & 0.70 & 1054684.434 & -1071792.299\\\\\n",
       "\t  -7.44548136 &     44329.045 &  7 & NA & NA & 0.00 &  -137838.162 & NA & 0.05 & infill\\_ei  & 0.64 &  199388.881 &   133270.451\\\\\n",
       "\t  16.78922145 &     17779.612 &  8 & NA & NA & 0.00 &   -59193.521 & NA & 0.07 & infill\\_ei  & 0.50 &  206272.035 &    -6918.696\\\\\n",
       "\t  -9.04106611 &     42884.558 &  9 & NA & NA & 0.00 &   -28648.673 & NA & 0.05 & infill\\_ei  & 0.56 &   50246.563 &    59679.073\\\\\n",
       "\t  -5.35087215 &     38422.525 & 10 & NA & NA & 0.00 &   -23437.662 & NA & 0.03 & infill\\_ei  & 0.44 &   64397.429 &    39689.353\\\\\n",
       "\t  24.47221385 &   -153860.510 & 11 & NA & NA & 0.00 &   -16055.072 & NA & 0.05 & infill\\_ei  & 0.43 &  149230.316 &   -84333.492\\\\\n",
       "\t -14.61918968 &    -41470.599 & 12 & NA & NA & 0.00 &   -14254.564 & NA & 0.03 & infill\\_ei  & 0.38 &  338998.669 &  -408959.879\\\\\n",
       "\t -12.47071078 &     10035.099 & 13 & NA & NA & 0.00 &   -20192.300 & NA & 0.05 & infill\\_ei  & 0.34 &   61560.550 &    35036.946\\\\\n",
       "\t  14.78485402 &     21489.456 & 14 & NA & NA & 0.00 &   -12653.520 & NA & 0.01 & infill\\_ei  & 0.30 &   56179.322 &    21001.861\\\\\n",
       "\t   6.26313853 &     -1179.888 & 15 & NA & NA & 0.00 &    -9849.273 & NA & 0.05 & infill\\_ei  & 0.47 &   66725.389 &    -1090.557\\\\\n",
       "\t  18.78384112 &      2555.695 & 16 & NA & NA & 0.00 &    -7761.497 & NA & 0.05 & infill\\_ei  & 0.65 &   55734.835 &     4472.211\\\\\n",
       "\t  10.77079977 &     11463.853 & 17 & NA & NA & 0.00 &    -7206.864 & NA & 0.07 & infill\\_ei  & 0.53 &   48478.270 &    11535.347\\\\\n",
       "\t  -6.46845541 &     42427.303 & 18 & NA & NA & 0.00 &    -6432.440 & NA & 0.01 & infill\\_ei  & 0.41 &   18358.158 &    42471.301\\\\\n",
       "\t  -8.22852169 &     44431.128 & 19 & NA & NA & 0.00 &    -4628.626 & NA & 0.03 & infill\\_ei  & 0.32 &   11587.461 &    44340.837\\\\\n",
       "\t   1.78139783 &      3237.125 & 20 & NA & NA & 0.00 &    -3910.262 & NA & 0.01 & infill\\_ei  & 0.35 &   43095.140 &     3283.378\\\\\n",
       "\t  -4.27919681 &     33336.201 & 21 & NA & NA & 0.00 &    -3346.426 & NA & 0.01 & infill\\_ei  & 0.33 &   19168.058 &    33338.110\\\\\n",
       "\t  -1.66448162 &     18933.978 & 22 & NA & NA & 0.00 &    -2166.015 & NA & 0.01 & infill\\_ei  & 0.31 &   25658.752 &    18949.464\\\\\n",
       "\t  -9.65461144 &     40406.795 & 23 & NA & NA & 0.00 &    -1907.369 & NA & 0.01 & infill\\_ei  & 0.34 &    8703.470 &    40659.462\\\\\n",
       "\t  -6.99274789 &     43666.259 & 24 & NA & NA & 0.00 &    -1709.695 & NA & 0.03 & infill\\_ei  & 0.31 &    5186.833 &    43667.221\\\\\n",
       "\t  -7.85027090 &     44559.264 & 25 & NA & NA & 0.00 &    -1483.248 & NA & 0.03 & infill\\_ei  & 0.34 &    3557.640 &    44557.255\\\\\n",
       "\\end{tabular}\n"
      ],
      "text/markdown": [
       "\n",
       "A data.table: 29 × 13\n",
       "\n",
       "| x &lt;dbl&gt; | y &lt;dbl&gt; | dob &lt;int&gt; | eol &lt;int&gt; | error.message &lt;chr&gt; | exec.time &lt;dbl&gt; | ei &lt;dbl&gt; | error.model &lt;chr&gt; | train.time &lt;dbl&gt; | prop.type &lt;chr&gt; | propose.time &lt;dbl&gt; | se &lt;dbl&gt; | mean &lt;dbl&gt; |\n",
       "|---|---|---|---|---|---|---|---|---|---|---|---|---|\n",
       "| -58.79346573 | -28966895.068 |  0 | NA | NA | 0.02 |           NA | NA |   NA | initdesign |   NA |          NA |           NA |\n",
       "|  28.82123275 |   -462859.395 |  0 | NA | NA | 0.00 |           NA | NA |   NA | initdesign |   NA |          NA |           NA |\n",
       "|  63.02610189 | -22513006.726 |  0 | NA | NA | 0.00 |           NA | NA |   NA | initdesign |   NA |          NA |           NA |\n",
       "|  -3.04087994 |     26628.817 |  0 | NA | NA | 0.00 |           NA | NA |   NA | initdesign |   NA |          NA |           NA |\n",
       "|  12.76468215 |     18086.180 |  1 | NA | NA | 0.00 | -3266142.322 | NA | 0.61 | infill_ei  | 0.49 | 8567035.313 |  -280998.123 |\n",
       "|   3.85207797 |     -1369.430 |  2 | NA | NA | 0.00 |  -969907.267 | NA | 0.06 | infill_ei  | 0.53 | 1915230.547 |   408098.642 |\n",
       "|  21.31183604 |    -41577.486 |  3 | NA | NA | 0.00 |  -689308.341 | NA | 0.06 | infill_ei  | 0.61 | 1166292.936 |   421774.234 |\n",
       "|  -0.08185126 |     10759.925 |  4 | NA | NA | 0.00 |  -157847.745 | NA | 0.05 | infill_ei  | 0.56 |  289353.002 |   103379.588 |\n",
       "|   8.58822527 |      3989.860 |  5 | NA | NA | 0.00 |  -111356.484 | NA | 0.07 | infill_ei  | 0.66 |  288699.688 |    18910.443 |\n",
       "| -10.42457045 |     35452.942 |  6 | NA | NA | 0.00 |   -81148.876 | NA | 0.07 | infill_ei  | 0.70 | 1054684.434 | -1071792.299 |\n",
       "|  -7.44548136 |     44329.045 |  7 | NA | NA | 0.00 |  -137838.162 | NA | 0.05 | infill_ei  | 0.64 |  199388.881 |   133270.451 |\n",
       "|  16.78922145 |     17779.612 |  8 | NA | NA | 0.00 |   -59193.521 | NA | 0.07 | infill_ei  | 0.50 |  206272.035 |    -6918.696 |\n",
       "|  -9.04106611 |     42884.558 |  9 | NA | NA | 0.00 |   -28648.673 | NA | 0.05 | infill_ei  | 0.56 |   50246.563 |    59679.073 |\n",
       "|  -5.35087215 |     38422.525 | 10 | NA | NA | 0.00 |   -23437.662 | NA | 0.03 | infill_ei  | 0.44 |   64397.429 |    39689.353 |\n",
       "|  24.47221385 |   -153860.510 | 11 | NA | NA | 0.00 |   -16055.072 | NA | 0.05 | infill_ei  | 0.43 |  149230.316 |   -84333.492 |\n",
       "| -14.61918968 |    -41470.599 | 12 | NA | NA | 0.00 |   -14254.564 | NA | 0.03 | infill_ei  | 0.38 |  338998.669 |  -408959.879 |\n",
       "| -12.47071078 |     10035.099 | 13 | NA | NA | 0.00 |   -20192.300 | NA | 0.05 | infill_ei  | 0.34 |   61560.550 |    35036.946 |\n",
       "|  14.78485402 |     21489.456 | 14 | NA | NA | 0.00 |   -12653.520 | NA | 0.01 | infill_ei  | 0.30 |   56179.322 |    21001.861 |\n",
       "|   6.26313853 |     -1179.888 | 15 | NA | NA | 0.00 |    -9849.273 | NA | 0.05 | infill_ei  | 0.47 |   66725.389 |    -1090.557 |\n",
       "|  18.78384112 |      2555.695 | 16 | NA | NA | 0.00 |    -7761.497 | NA | 0.05 | infill_ei  | 0.65 |   55734.835 |     4472.211 |\n",
       "|  10.77079977 |     11463.853 | 17 | NA | NA | 0.00 |    -7206.864 | NA | 0.07 | infill_ei  | 0.53 |   48478.270 |    11535.347 |\n",
       "|  -6.46845541 |     42427.303 | 18 | NA | NA | 0.00 |    -6432.440 | NA | 0.01 | infill_ei  | 0.41 |   18358.158 |    42471.301 |\n",
       "|  -8.22852169 |     44431.128 | 19 | NA | NA | 0.00 |    -4628.626 | NA | 0.03 | infill_ei  | 0.32 |   11587.461 |    44340.837 |\n",
       "|   1.78139783 |      3237.125 | 20 | NA | NA | 0.00 |    -3910.262 | NA | 0.01 | infill_ei  | 0.35 |   43095.140 |     3283.378 |\n",
       "|  -4.27919681 |     33336.201 | 21 | NA | NA | 0.00 |    -3346.426 | NA | 0.01 | infill_ei  | 0.33 |   19168.058 |    33338.110 |\n",
       "|  -1.66448162 |     18933.978 | 22 | NA | NA | 0.00 |    -2166.015 | NA | 0.01 | infill_ei  | 0.31 |   25658.752 |    18949.464 |\n",
       "|  -9.65461144 |     40406.795 | 23 | NA | NA | 0.00 |    -1907.369 | NA | 0.01 | infill_ei  | 0.34 |    8703.470 |    40659.462 |\n",
       "|  -6.99274789 |     43666.259 | 24 | NA | NA | 0.00 |    -1709.695 | NA | 0.03 | infill_ei  | 0.31 |    5186.833 |    43667.221 |\n",
       "|  -7.85027090 |     44559.264 | 25 | NA | NA | 0.00 |    -1483.248 | NA | 0.03 | infill_ei  | 0.34 |    3557.640 |    44557.255 |\n",
       "\n"
      ],
      "text/plain": [
       "   x            y             dob eol error.message exec.time ei          \n",
       "1  -58.79346573 -28966895.068  0  NA  NA            0.02                NA\n",
       "2   28.82123275   -462859.395  0  NA  NA            0.00                NA\n",
       "3   63.02610189 -22513006.726  0  NA  NA            0.00                NA\n",
       "4   -3.04087994     26628.817  0  NA  NA            0.00                NA\n",
       "5   12.76468215     18086.180  1  NA  NA            0.00      -3266142.322\n",
       "6    3.85207797     -1369.430  2  NA  NA            0.00       -969907.267\n",
       "7   21.31183604    -41577.486  3  NA  NA            0.00       -689308.341\n",
       "8   -0.08185126     10759.925  4  NA  NA            0.00       -157847.745\n",
       "9    8.58822527      3989.860  5  NA  NA            0.00       -111356.484\n",
       "10 -10.42457045     35452.942  6  NA  NA            0.00        -81148.876\n",
       "11  -7.44548136     44329.045  7  NA  NA            0.00       -137838.162\n",
       "12  16.78922145     17779.612  8  NA  NA            0.00        -59193.521\n",
       "13  -9.04106611     42884.558  9  NA  NA            0.00        -28648.673\n",
       "14  -5.35087215     38422.525 10  NA  NA            0.00        -23437.662\n",
       "15  24.47221385   -153860.510 11  NA  NA            0.00        -16055.072\n",
       "16 -14.61918968    -41470.599 12  NA  NA            0.00        -14254.564\n",
       "17 -12.47071078     10035.099 13  NA  NA            0.00        -20192.300\n",
       "18  14.78485402     21489.456 14  NA  NA            0.00        -12653.520\n",
       "19   6.26313853     -1179.888 15  NA  NA            0.00         -9849.273\n",
       "20  18.78384112      2555.695 16  NA  NA            0.00         -7761.497\n",
       "21  10.77079977     11463.853 17  NA  NA            0.00         -7206.864\n",
       "22  -6.46845541     42427.303 18  NA  NA            0.00         -6432.440\n",
       "23  -8.22852169     44431.128 19  NA  NA            0.00         -4628.626\n",
       "24   1.78139783      3237.125 20  NA  NA            0.00         -3910.262\n",
       "25  -4.27919681     33336.201 21  NA  NA            0.00         -3346.426\n",
       "26  -1.66448162     18933.978 22  NA  NA            0.00         -2166.015\n",
       "27  -9.65461144     40406.795 23  NA  NA            0.00         -1907.369\n",
       "28  -6.99274789     43666.259 24  NA  NA            0.00         -1709.695\n",
       "29  -7.85027090     44559.264 25  NA  NA            0.00         -1483.248\n",
       "   error.model train.time prop.type  propose.time se          mean        \n",
       "1  NA            NA       initdesign   NA                  NA           NA\n",
       "2  NA            NA       initdesign   NA                  NA           NA\n",
       "3  NA            NA       initdesign   NA                  NA           NA\n",
       "4  NA            NA       initdesign   NA                  NA           NA\n",
       "5  NA          0.61       infill_ei  0.49         8567035.313  -280998.123\n",
       "6  NA          0.06       infill_ei  0.53         1915230.547   408098.642\n",
       "7  NA          0.06       infill_ei  0.61         1166292.936   421774.234\n",
       "8  NA          0.05       infill_ei  0.56          289353.002   103379.588\n",
       "9  NA          0.07       infill_ei  0.66          288699.688    18910.443\n",
       "10 NA          0.07       infill_ei  0.70         1054684.434 -1071792.299\n",
       "11 NA          0.05       infill_ei  0.64          199388.881   133270.451\n",
       "12 NA          0.07       infill_ei  0.50          206272.035    -6918.696\n",
       "13 NA          0.05       infill_ei  0.56           50246.563    59679.073\n",
       "14 NA          0.03       infill_ei  0.44           64397.429    39689.353\n",
       "15 NA          0.05       infill_ei  0.43          149230.316   -84333.492\n",
       "16 NA          0.03       infill_ei  0.38          338998.669  -408959.879\n",
       "17 NA          0.05       infill_ei  0.34           61560.550    35036.946\n",
       "18 NA          0.01       infill_ei  0.30           56179.322    21001.861\n",
       "19 NA          0.05       infill_ei  0.47           66725.389    -1090.557\n",
       "20 NA          0.05       infill_ei  0.65           55734.835     4472.211\n",
       "21 NA          0.07       infill_ei  0.53           48478.270    11535.347\n",
       "22 NA          0.01       infill_ei  0.41           18358.158    42471.301\n",
       "23 NA          0.03       infill_ei  0.32           11587.461    44340.837\n",
       "24 NA          0.01       infill_ei  0.35           43095.140     3283.378\n",
       "25 NA          0.01       infill_ei  0.33           19168.058    33338.110\n",
       "26 NA          0.01       infill_ei  0.31           25658.752    18949.464\n",
       "27 NA          0.01       infill_ei  0.34            8703.470    40659.462\n",
       "28 NA          0.03       infill_ei  0.31            5186.833    43667.221\n",
       "29 NA          0.03       infill_ei  0.34            3557.640    44557.255"
      ]
     },
     "metadata": {},
     "output_type": "display_data"
    }
   ],
   "source": [
    "tb_resultados"
   ]
  },
  {
   "cell_type": "code",
   "execution_count": 12,
   "metadata": {
    "tags": []
   },
   "outputs": [
    {
     "data": {
      "text/html": [
       "<table class=\"dataframe\">\n",
       "<caption>A data.table: 1 × 13</caption>\n",
       "<thead>\n",
       "\t<tr><th scope=col>x</th><th scope=col>y</th><th scope=col>dob</th><th scope=col>eol</th><th scope=col>error.message</th><th scope=col>exec.time</th><th scope=col>ei</th><th scope=col>error.model</th><th scope=col>train.time</th><th scope=col>prop.type</th><th scope=col>propose.time</th><th scope=col>se</th><th scope=col>mean</th></tr>\n",
       "\t<tr><th scope=col>&lt;dbl&gt;</th><th scope=col>&lt;dbl&gt;</th><th scope=col>&lt;int&gt;</th><th scope=col>&lt;int&gt;</th><th scope=col>&lt;chr&gt;</th><th scope=col>&lt;dbl&gt;</th><th scope=col>&lt;dbl&gt;</th><th scope=col>&lt;chr&gt;</th><th scope=col>&lt;dbl&gt;</th><th scope=col>&lt;chr&gt;</th><th scope=col>&lt;dbl&gt;</th><th scope=col>&lt;dbl&gt;</th><th scope=col>&lt;dbl&gt;</th></tr>\n",
       "</thead>\n",
       "<tbody>\n",
       "\t<tr><td>-7.850271</td><td>44559.26</td><td>25</td><td>NA</td><td>NA</td><td>0</td><td>-1483.248</td><td>NA</td><td>0.03</td><td>infill_ei</td><td>0.34</td><td>3557.64</td><td>44557.25</td></tr>\n",
       "</tbody>\n",
       "</table>\n"
      ],
      "text/latex": [
       "A data.table: 1 × 13\n",
       "\\begin{tabular}{lllllllllllll}\n",
       " x & y & dob & eol & error.message & exec.time & ei & error.model & train.time & prop.type & propose.time & se & mean\\\\\n",
       " <dbl> & <dbl> & <int> & <int> & <chr> & <dbl> & <dbl> & <chr> & <dbl> & <chr> & <dbl> & <dbl> & <dbl>\\\\\n",
       "\\hline\n",
       "\t -7.850271 & 44559.26 & 25 & NA & NA & 0 & -1483.248 & NA & 0.03 & infill\\_ei & 0.34 & 3557.64 & 44557.25\\\\\n",
       "\\end{tabular}\n"
      ],
      "text/markdown": [
       "\n",
       "A data.table: 1 × 13\n",
       "\n",
       "| x &lt;dbl&gt; | y &lt;dbl&gt; | dob &lt;int&gt; | eol &lt;int&gt; | error.message &lt;chr&gt; | exec.time &lt;dbl&gt; | ei &lt;dbl&gt; | error.model &lt;chr&gt; | train.time &lt;dbl&gt; | prop.type &lt;chr&gt; | propose.time &lt;dbl&gt; | se &lt;dbl&gt; | mean &lt;dbl&gt; |\n",
       "|---|---|---|---|---|---|---|---|---|---|---|---|---|\n",
       "| -7.850271 | 44559.26 | 25 | NA | NA | 0 | -1483.248 | NA | 0.03 | infill_ei | 0.34 | 3557.64 | 44557.25 |\n",
       "\n"
      ],
      "text/plain": [
       "  x         y        dob eol error.message exec.time ei        error.model\n",
       "1 -7.850271 44559.26 25  NA  NA            0         -1483.248 NA         \n",
       "  train.time prop.type propose.time se      mean    \n",
       "1 0.03       infill_ei 0.34         3557.64 44557.25"
      ]
     },
     "metadata": {},
     "output_type": "display_data"
    }
   ],
   "source": [
    "tb_resultados[ which.max( tb_resultados$y ) ]"
   ]
  },
  {
   "cell_type": "markdown",
   "metadata": {},
   "source": [
    "### Conclusiones"
   ]
  },
  {
   "cell_type": "markdown",
   "metadata": {},
   "source": [
    "La gran pregunta es :  la Optimización Bayesiana, ¿se focaliza luego de muchas iteraciones solo en el entorno del máximo que está cerca de x= -8 ?"
   ]
  }
 ],
 "metadata": {
  "kernelspec": {
   "display_name": "Python 3 (ipykernel)",
   "language": "python",
   "name": "python3"
  },
  "language_info": {
   "codemirror_mode": {
    "name": "ipython",
    "version": 3
   },
   "file_extension": ".py",
   "mimetype": "text/x-python",
   "name": "python",
   "nbconvert_exporter": "python",
   "pygments_lexer": "ipython3",
   "version": "3.11.3"
  }
 },
 "nbformat": 4,
 "nbformat_minor": 4
}
