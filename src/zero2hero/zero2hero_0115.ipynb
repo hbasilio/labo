{
 "cells": [
  {
   "cell_type": "markdown",
   "metadata": {},
   "source": [
    "# Zero to Hero"
   ]
  },
  {
   "cell_type": "markdown",
   "metadata": {},
   "source": [
    "## 1.15 Montecarlo Estimation, Arbol\n",
    "## En una funcion"
   ]
  },
  {
   "cell_type": "markdown",
   "metadata": {},
   "source": [
    "El objetivo es implementar con un for loop la estimacion montecarlo, que promedia las ganancias"
   ]
  },
  {
   "cell_type": "code",
   "execution_count": 2,
   "metadata": {
    "tags": []
   },
   "outputs": [
    {
     "data": {
      "text/html": [
       "<table class=\"dataframe\">\n",
       "<caption>A matrix: 2 × 6 of type dbl</caption>\n",
       "<thead>\n",
       "\t<tr><th></th><th scope=col>used</th><th scope=col>(Mb)</th><th scope=col>gc trigger</th><th scope=col>(Mb)</th><th scope=col>max used</th><th scope=col>(Mb)</th></tr>\n",
       "</thead>\n",
       "<tbody>\n",
       "\t<tr><th scope=row>Ncells</th><td>2302544</td><td>123.0</td><td>4559530</td><td>243.6</td><td>3568089</td><td>190.6</td></tr>\n",
       "\t<tr><th scope=row>Vcells</th><td>3778507</td><td> 28.9</td><td>8388608</td><td> 64.0</td><td>7017475</td><td> 53.6</td></tr>\n",
       "</tbody>\n",
       "</table>\n"
      ],
      "text/latex": [
       "A matrix: 2 × 6 of type dbl\n",
       "\\begin{tabular}{r|llllll}\n",
       "  & used & (Mb) & gc trigger & (Mb) & max used & (Mb)\\\\\n",
       "\\hline\n",
       "\tNcells & 2302544 & 123.0 & 4559530 & 243.6 & 3568089 & 190.6\\\\\n",
       "\tVcells & 3778507 &  28.9 & 8388608 &  64.0 & 7017475 &  53.6\\\\\n",
       "\\end{tabular}\n"
      ],
      "text/markdown": [
       "\n",
       "A matrix: 2 × 6 of type dbl\n",
       "\n",
       "| <!--/--> | used | (Mb) | gc trigger | (Mb) | max used | (Mb) |\n",
       "|---|---|---|---|---|---|---|\n",
       "| Ncells | 2302544 | 123.0 | 4559530 | 243.6 | 3568089 | 190.6 |\n",
       "| Vcells | 3778507 |  28.9 | 8388608 |  64.0 | 7017475 |  53.6 |\n",
       "\n"
      ],
      "text/plain": [
       "       used    (Mb)  gc trigger (Mb)  max used (Mb) \n",
       "Ncells 2302544 123.0 4559530    243.6 3568089  190.6\n",
       "Vcells 3778507  28.9 8388608     64.0 7017475   53.6"
      ]
     },
     "metadata": {},
     "output_type": "display_data"
    }
   ],
   "source": [
    "rm( list=ls())\n",
    "gc()\n",
    "\n",
    "library(\"data.table\")   #cargo la libreria  data.table\n",
    "library(\"rpart\")  #cargo la libreria  rpart\n",
    "library(\"rpart.plot\")\n",
    "library(\"caret\")\n",
    "library(\"ggplot2\")\n",
    "library(\"lattice\")\n",
    "options(repr.plot.width=20, repr.plot.height=10) \n",
    "setwd(\"C:\\\\Lab_Imp_1\\\\\") #Aqui se debe poner la ruta de la PC local"
   ]
  },
  {
   "cell_type": "markdown",
   "metadata": {},
   "source": [
    "La funcion que definimos en el notebook anterior"
   ]
  },
  {
   "cell_type": "code",
   "execution_count": 3,
   "metadata": {
    "tags": []
   },
   "outputs": [],
   "source": [
    "GananciaArbol  <-  function( semilla, data, x, train=0.70) {\n",
    "  #establezco la semilla\n",
    "  set.seed(semilla)\n",
    "  train_rows <- createDataPartition(dataset$clase_ternaria, p= 0.70,list= FALSE)\n",
    "  \n",
    "  modelo <-  rpart::rpart(formula= \"clase_ternaria ~ .\" ,\n",
    "                          data= data[ train_rows],  #los datos de training\n",
    "                          xval= 0,\n",
    "                          control= x)\n",
    "    \n",
    "  #Aplico el modelo a los datos de testing  \n",
    "  prediccion  <- predict( modelo, data[ -train_rows], type = \"prob\")\n",
    "  \n",
    "  prob_baja2  <- prediccion[, \"BAJA+2\"]\n",
    "  ganancia_testing <- data[ -train_rows, sum(  (prob_baja2> 0.025) * ifelse( clase_ternaria==\"BAJA+2\", 117000, -3000) )]\n",
    "  \n",
    "  #normalizo la ganancia\n",
    "  ganancia_testing_normalizada  <- ganancia_testing/0.3  \n",
    "\n",
    "  return( ganancia_testing_normalizada )\n",
    "\n",
    "}"
   ]
  },
  {
   "cell_type": "code",
   "execution_count": 4,
   "metadata": {
    "tags": []
   },
   "outputs": [],
   "source": [
    "ArbolMontecarlo <- function( semillas, data, x, train=0.70)\n",
    "{\n",
    "  vector_ganancias <- c()  #vector donde voy a ir acumulando las ganancias\n",
    "  for( semilla in ksemillas)\n",
    "  {\n",
    "    ganancia  <- GananciaArbol( semilla, dataset, x=x, train=0.70 )\n",
    "    vector_ganancias  <-  c( vector_ganancias, ganancia)\n",
    "  }\n",
    "    \n",
    "  return( mean( vector_ganancias))\n",
    "}"
   ]
  },
  {
   "cell_type": "code",
   "execution_count": 5,
   "metadata": {
    "tags": []
   },
   "outputs": [],
   "source": [
    "dataset <- fread(\"./datasets/dataset_pequeno.csv\")   #cargo el dataset #cargo el dataset\n",
    "dataset <- dataset[ foto_mes==202107 ]  # me quedo solo con el periodo 202107"
   ]
  },
  {
   "cell_type": "code",
   "execution_count": 7,
   "metadata": {
    "tags": []
   },
   "outputs": [],
   "source": [
    "ksemillas  <- c(100109, 200179, 300149, 400199, 500129) #reemplazar por las propias semillas"
   ]
  },
  {
   "cell_type": "code",
   "execution_count": 8,
   "metadata": {
    "tags": []
   },
   "outputs": [],
   "source": [
    "#defino el primer set de hiperparametros\n",
    "param1  <- list(\"cp\"= -0.5,\n",
    "                \"minsplit\"=  900,\n",
    "                \"minbucket\"= 440,\n",
    "                \"maxdepth\"= 5 )"
   ]
  },
  {
   "cell_type": "markdown",
   "metadata": {},
   "source": [
    "llamo a la fucion  ArbolMontecarlo con las 5 semillas de ksemillas"
   ]
  },
  {
   "cell_type": "code",
   "execution_count": 9,
   "metadata": {
    "tags": []
   },
   "outputs": [],
   "source": [
    "ganancia_montecarlo1  <- ArbolMontecarlo( ksemillas, dataset, x= param1, train= 0.70 )"
   ]
  },
  {
   "cell_type": "code",
   "execution_count": 10,
   "metadata": {
    "tags": []
   },
   "outputs": [],
   "source": [
    "#el SEGUNDO set de hiperparametros\n",
    "param2  <- list(\"cp\"= -0.5,\n",
    "                \"minsplit\"=  1340,\n",
    "                \"minbucket\"=  600,\n",
    "                \"maxdepth\"= 6 )"
   ]
  },
  {
   "cell_type": "code",
   "execution_count": 11,
   "metadata": {
    "tags": []
   },
   "outputs": [],
   "source": [
    "ganancia_montecarlo2  <- ArbolMontecarlo( ksemillas, dataset, x= param2, train= 0.70 )"
   ]
  },
  {
   "cell_type": "code",
   "execution_count": 12,
   "metadata": {
    "tags": []
   },
   "outputs": [
    {
     "data": {
      "text/html": [
       "55002000"
      ],
      "text/latex": [
       "55002000"
      ],
      "text/markdown": [
       "55002000"
      ],
      "text/plain": [
       "[1] 55002000"
      ]
     },
     "metadata": {},
     "output_type": "display_data"
    },
    {
     "data": {
      "text/html": [
       "53158000"
      ],
      "text/latex": [
       "53158000"
      ],
      "text/markdown": [
       "53158000"
      ],
      "text/plain": [
       "[1] 53158000"
      ]
     },
     "metadata": {},
     "output_type": "display_data"
    }
   ],
   "source": [
    "ganancia_montecarlo1\n",
    "ganancia_montecarlo2"
   ]
  },
  {
   "cell_type": "markdown",
   "metadata": {},
   "source": [
    "Segun este experimento, el primer juego de hiperparametros es mejor que el primero\n",
    "<br>\n",
    "¿Se cumplirá esto subiendo a Kaggle?\n",
    "<br>\n",
    "¿Qué sucede si en Kaggle funciona bastante mejor el segundo set de hiperparámetros?"
   ]
  }
 ],
 "metadata": {
  "kernelspec": {
   "display_name": "R",
   "language": "R",
   "name": "ir"
  },
  "language_info": {
   "codemirror_mode": "r",
   "file_extension": ".r",
   "mimetype": "text/x-r-source",
   "name": "R",
   "pygments_lexer": "r",
   "version": "4.2.3"
  }
 },
 "nbformat": 4,
 "nbformat_minor": 4
}
